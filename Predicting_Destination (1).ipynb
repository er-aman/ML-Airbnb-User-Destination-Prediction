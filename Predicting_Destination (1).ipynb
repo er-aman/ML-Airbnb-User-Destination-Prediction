{
  "nbformat": 4,
  "nbformat_minor": 0,
  "metadata": {
    "anaconda-cloud": {},
    "kernelspec": {
      "display_name": "Python 3",
      "language": "python",
      "name": "python3"
    },
    "language_info": {
      "codemirror_mode": {
        "name": "ipython",
        "version": 3
      },
      "file_extension": ".py",
      "mimetype": "text/x-python",
      "name": "python",
      "nbconvert_exporter": "python",
      "pygments_lexer": "ipython3",
      "version": "3.7.3"
    },
    "colab": {
      "name": "Predicting_Destination.ipynb",
      "provenance": []
    }
  },
  "cells": [
    {
      "cell_type": "markdown",
      "metadata": {
        "id": "i16WrJpE6jDH",
        "colab_type": "text"
      },
      "source": [
        "# Predicting Destination - AirBnB Customers"
      ]
    },
    {
      "cell_type": "markdown",
      "metadata": {
        "id": "9UMknmhV6jDJ",
        "colab_type": "text"
      },
      "source": [
        "The goal for this analysis is to build a neural network, using Tensorflow, that can predict which country a new user of AirBnB will make his/her first trip to. More information about the data can be found at: https://www.kaggle.com/c/airbnb-recruiting-new-user-bookings. This data was originally from a 2016 Kaggle competition, sponsored by AirBnB. I believe that it is still an excellent learning reasource because of the opportunity to clean data, engineering features, and build a model, which will all significantly impact the quality of the predictions."
      ]
    },
    {
      "cell_type": "code",
      "metadata": {
        "id": "CoI0NFi46jDJ",
        "colab_type": "code",
        "colab": {}
      },
      "source": [
        "import pandas as pd\n",
        "import numpy as np\n",
        "import tensorflow as tf\n",
        "import matplotlib.pyplot as plt\n",
        "from sklearn.model_selection import train_test_split\n",
        "from scipy import stats\n",
        "pd.set_option(\"display.max_columns\", 1000)\n",
        "import math\n",
        "from pandas.tseries.holiday import USFederalHolidayCalendar\n",
        "from pandas.tseries.offsets import CustomBusinessDay\n",
        "from sklearn.model_selection import train_test_split\n",
        "import tensorflow as tf\n",
        "from tqdm import tqdm\n",
        "from sklearn.preprocessing import LabelEncoder\n",
        "from sklearn import preprocessing\n",
        "from sklearn.metrics import classification_report"
      ],
      "execution_count": null,
      "outputs": []
    },
    {
      "cell_type": "code",
      "metadata": {
        "id": "AumNBlOV6jDO",
        "colab_type": "code",
        "colab": {}
      },
      "source": [
        "# Load the data\n",
        "countries = pd.read_csv(\"countries.csv\")\n",
        "test = pd.read_csv(\"test_users.csv\")\n",
        "train = pd.read_csv(\"train_users_2.csv\")\n",
        "sessions = pd.read_csv(\"sessions.csv\")"
      ],
      "execution_count": null,
      "outputs": []
    },
    {
      "cell_type": "markdown",
      "metadata": {
        "id": "l8YkroGc6jDS",
        "colab_type": "text"
      },
      "source": [
        "First, let's have a look at the data we are working with."
      ]
    },
    {
      "cell_type": "code",
      "metadata": {
        "id": "s1ib4x7n6jDS",
        "colab_type": "code",
        "colab": {},
        "outputId": "818bb0f6-16f8-487e-faaf-9c94297c1c44"
      },
      "source": [
        "test.head()"
      ],
      "execution_count": null,
      "outputs": [
        {
          "output_type": "execute_result",
          "data": {
            "text/html": [
              "<div>\n",
              "<style scoped>\n",
              "    .dataframe tbody tr th:only-of-type {\n",
              "        vertical-align: middle;\n",
              "    }\n",
              "\n",
              "    .dataframe tbody tr th {\n",
              "        vertical-align: top;\n",
              "    }\n",
              "\n",
              "    .dataframe thead th {\n",
              "        text-align: right;\n",
              "    }\n",
              "</style>\n",
              "<table border=\"1\" class=\"dataframe\">\n",
              "  <thead>\n",
              "    <tr style=\"text-align: right;\">\n",
              "      <th></th>\n",
              "      <th>id</th>\n",
              "      <th>date_account_created</th>\n",
              "      <th>timestamp_first_active</th>\n",
              "      <th>date_first_booking</th>\n",
              "      <th>gender</th>\n",
              "      <th>age</th>\n",
              "      <th>signup_method</th>\n",
              "      <th>signup_flow</th>\n",
              "      <th>language</th>\n",
              "      <th>affiliate_channel</th>\n",
              "      <th>affiliate_provider</th>\n",
              "      <th>first_affiliate_tracked</th>\n",
              "      <th>signup_app</th>\n",
              "      <th>first_device_type</th>\n",
              "      <th>first_browser</th>\n",
              "    </tr>\n",
              "  </thead>\n",
              "  <tbody>\n",
              "    <tr>\n",
              "      <th>0</th>\n",
              "      <td>5uwns89zht</td>\n",
              "      <td>2014-07-01</td>\n",
              "      <td>20140701000006</td>\n",
              "      <td>NaN</td>\n",
              "      <td>FEMALE</td>\n",
              "      <td>35.0</td>\n",
              "      <td>facebook</td>\n",
              "      <td>0</td>\n",
              "      <td>en</td>\n",
              "      <td>direct</td>\n",
              "      <td>direct</td>\n",
              "      <td>untracked</td>\n",
              "      <td>Moweb</td>\n",
              "      <td>iPhone</td>\n",
              "      <td>Mobile Safari</td>\n",
              "    </tr>\n",
              "    <tr>\n",
              "      <th>1</th>\n",
              "      <td>jtl0dijy2j</td>\n",
              "      <td>2014-07-01</td>\n",
              "      <td>20140701000051</td>\n",
              "      <td>NaN</td>\n",
              "      <td>-unknown-</td>\n",
              "      <td>NaN</td>\n",
              "      <td>basic</td>\n",
              "      <td>0</td>\n",
              "      <td>en</td>\n",
              "      <td>direct</td>\n",
              "      <td>direct</td>\n",
              "      <td>untracked</td>\n",
              "      <td>Moweb</td>\n",
              "      <td>iPhone</td>\n",
              "      <td>Mobile Safari</td>\n",
              "    </tr>\n",
              "    <tr>\n",
              "      <th>2</th>\n",
              "      <td>xx0ulgorjt</td>\n",
              "      <td>2014-07-01</td>\n",
              "      <td>20140701000148</td>\n",
              "      <td>NaN</td>\n",
              "      <td>-unknown-</td>\n",
              "      <td>NaN</td>\n",
              "      <td>basic</td>\n",
              "      <td>0</td>\n",
              "      <td>en</td>\n",
              "      <td>direct</td>\n",
              "      <td>direct</td>\n",
              "      <td>linked</td>\n",
              "      <td>Web</td>\n",
              "      <td>Windows Desktop</td>\n",
              "      <td>Chrome</td>\n",
              "    </tr>\n",
              "    <tr>\n",
              "      <th>3</th>\n",
              "      <td>6c6puo6ix0</td>\n",
              "      <td>2014-07-01</td>\n",
              "      <td>20140701000215</td>\n",
              "      <td>NaN</td>\n",
              "      <td>-unknown-</td>\n",
              "      <td>NaN</td>\n",
              "      <td>basic</td>\n",
              "      <td>0</td>\n",
              "      <td>en</td>\n",
              "      <td>direct</td>\n",
              "      <td>direct</td>\n",
              "      <td>linked</td>\n",
              "      <td>Web</td>\n",
              "      <td>Windows Desktop</td>\n",
              "      <td>IE</td>\n",
              "    </tr>\n",
              "    <tr>\n",
              "      <th>4</th>\n",
              "      <td>czqhjk3yfe</td>\n",
              "      <td>2014-07-01</td>\n",
              "      <td>20140701000305</td>\n",
              "      <td>NaN</td>\n",
              "      <td>-unknown-</td>\n",
              "      <td>NaN</td>\n",
              "      <td>basic</td>\n",
              "      <td>0</td>\n",
              "      <td>en</td>\n",
              "      <td>direct</td>\n",
              "      <td>direct</td>\n",
              "      <td>untracked</td>\n",
              "      <td>Web</td>\n",
              "      <td>Mac Desktop</td>\n",
              "      <td>Safari</td>\n",
              "    </tr>\n",
              "  </tbody>\n",
              "</table>\n",
              "</div>"
            ],
            "text/plain": [
              "           id date_account_created  timestamp_first_active  \\\n",
              "0  5uwns89zht           2014-07-01          20140701000006   \n",
              "1  jtl0dijy2j           2014-07-01          20140701000051   \n",
              "2  xx0ulgorjt           2014-07-01          20140701000148   \n",
              "3  6c6puo6ix0           2014-07-01          20140701000215   \n",
              "4  czqhjk3yfe           2014-07-01          20140701000305   \n",
              "\n",
              "   date_first_booking     gender   age signup_method  signup_flow language  \\\n",
              "0                 NaN     FEMALE  35.0      facebook            0       en   \n",
              "1                 NaN  -unknown-   NaN         basic            0       en   \n",
              "2                 NaN  -unknown-   NaN         basic            0       en   \n",
              "3                 NaN  -unknown-   NaN         basic            0       en   \n",
              "4                 NaN  -unknown-   NaN         basic            0       en   \n",
              "\n",
              "  affiliate_channel affiliate_provider first_affiliate_tracked signup_app  \\\n",
              "0            direct             direct               untracked      Moweb   \n",
              "1            direct             direct               untracked      Moweb   \n",
              "2            direct             direct                  linked        Web   \n",
              "3            direct             direct                  linked        Web   \n",
              "4            direct             direct               untracked        Web   \n",
              "\n",
              "  first_device_type  first_browser  \n",
              "0            iPhone  Mobile Safari  \n",
              "1            iPhone  Mobile Safari  \n",
              "2   Windows Desktop         Chrome  \n",
              "3   Windows Desktop             IE  \n",
              "4       Mac Desktop         Safari  "
            ]
          },
          "metadata": {
            "tags": []
          },
          "execution_count": 3
        }
      ]
    },
    {
      "cell_type": "code",
      "metadata": {
        "id": "Awolw30o6jDW",
        "colab_type": "code",
        "colab": {},
        "outputId": "d5c4f148-05f5-4096-ec56-cf90fc149d94"
      },
      "source": [
        "train.head()"
      ],
      "execution_count": null,
      "outputs": [
        {
          "output_type": "execute_result",
          "data": {
            "text/html": [
              "<div>\n",
              "<style scoped>\n",
              "    .dataframe tbody tr th:only-of-type {\n",
              "        vertical-align: middle;\n",
              "    }\n",
              "\n",
              "    .dataframe tbody tr th {\n",
              "        vertical-align: top;\n",
              "    }\n",
              "\n",
              "    .dataframe thead th {\n",
              "        text-align: right;\n",
              "    }\n",
              "</style>\n",
              "<table border=\"1\" class=\"dataframe\">\n",
              "  <thead>\n",
              "    <tr style=\"text-align: right;\">\n",
              "      <th></th>\n",
              "      <th>id</th>\n",
              "      <th>date_account_created</th>\n",
              "      <th>timestamp_first_active</th>\n",
              "      <th>date_first_booking</th>\n",
              "      <th>gender</th>\n",
              "      <th>age</th>\n",
              "      <th>signup_method</th>\n",
              "      <th>signup_flow</th>\n",
              "      <th>language</th>\n",
              "      <th>affiliate_channel</th>\n",
              "      <th>affiliate_provider</th>\n",
              "      <th>first_affiliate_tracked</th>\n",
              "      <th>signup_app</th>\n",
              "      <th>first_device_type</th>\n",
              "      <th>first_browser</th>\n",
              "      <th>country_destination</th>\n",
              "    </tr>\n",
              "  </thead>\n",
              "  <tbody>\n",
              "    <tr>\n",
              "      <th>0</th>\n",
              "      <td>gxn3p5htnn</td>\n",
              "      <td>2010-06-28</td>\n",
              "      <td>20090319043255</td>\n",
              "      <td>NaN</td>\n",
              "      <td>-unknown-</td>\n",
              "      <td>NaN</td>\n",
              "      <td>facebook</td>\n",
              "      <td>0</td>\n",
              "      <td>en</td>\n",
              "      <td>direct</td>\n",
              "      <td>direct</td>\n",
              "      <td>untracked</td>\n",
              "      <td>Web</td>\n",
              "      <td>Mac Desktop</td>\n",
              "      <td>Chrome</td>\n",
              "      <td>NDF</td>\n",
              "    </tr>\n",
              "    <tr>\n",
              "      <th>1</th>\n",
              "      <td>820tgsjxq7</td>\n",
              "      <td>2011-05-25</td>\n",
              "      <td>20090523174809</td>\n",
              "      <td>NaN</td>\n",
              "      <td>MALE</td>\n",
              "      <td>38.0</td>\n",
              "      <td>facebook</td>\n",
              "      <td>0</td>\n",
              "      <td>en</td>\n",
              "      <td>seo</td>\n",
              "      <td>google</td>\n",
              "      <td>untracked</td>\n",
              "      <td>Web</td>\n",
              "      <td>Mac Desktop</td>\n",
              "      <td>Chrome</td>\n",
              "      <td>NDF</td>\n",
              "    </tr>\n",
              "    <tr>\n",
              "      <th>2</th>\n",
              "      <td>4ft3gnwmtx</td>\n",
              "      <td>2010-09-28</td>\n",
              "      <td>20090609231247</td>\n",
              "      <td>2010-08-02</td>\n",
              "      <td>FEMALE</td>\n",
              "      <td>56.0</td>\n",
              "      <td>basic</td>\n",
              "      <td>3</td>\n",
              "      <td>en</td>\n",
              "      <td>direct</td>\n",
              "      <td>direct</td>\n",
              "      <td>untracked</td>\n",
              "      <td>Web</td>\n",
              "      <td>Windows Desktop</td>\n",
              "      <td>IE</td>\n",
              "      <td>US</td>\n",
              "    </tr>\n",
              "    <tr>\n",
              "      <th>3</th>\n",
              "      <td>bjjt8pjhuk</td>\n",
              "      <td>2011-12-05</td>\n",
              "      <td>20091031060129</td>\n",
              "      <td>2012-09-08</td>\n",
              "      <td>FEMALE</td>\n",
              "      <td>42.0</td>\n",
              "      <td>facebook</td>\n",
              "      <td>0</td>\n",
              "      <td>en</td>\n",
              "      <td>direct</td>\n",
              "      <td>direct</td>\n",
              "      <td>untracked</td>\n",
              "      <td>Web</td>\n",
              "      <td>Mac Desktop</td>\n",
              "      <td>Firefox</td>\n",
              "      <td>other</td>\n",
              "    </tr>\n",
              "    <tr>\n",
              "      <th>4</th>\n",
              "      <td>87mebub9p4</td>\n",
              "      <td>2010-09-14</td>\n",
              "      <td>20091208061105</td>\n",
              "      <td>2010-02-18</td>\n",
              "      <td>-unknown-</td>\n",
              "      <td>41.0</td>\n",
              "      <td>basic</td>\n",
              "      <td>0</td>\n",
              "      <td>en</td>\n",
              "      <td>direct</td>\n",
              "      <td>direct</td>\n",
              "      <td>untracked</td>\n",
              "      <td>Web</td>\n",
              "      <td>Mac Desktop</td>\n",
              "      <td>Chrome</td>\n",
              "      <td>US</td>\n",
              "    </tr>\n",
              "  </tbody>\n",
              "</table>\n",
              "</div>"
            ],
            "text/plain": [
              "           id date_account_created  timestamp_first_active date_first_booking  \\\n",
              "0  gxn3p5htnn           2010-06-28          20090319043255                NaN   \n",
              "1  820tgsjxq7           2011-05-25          20090523174809                NaN   \n",
              "2  4ft3gnwmtx           2010-09-28          20090609231247         2010-08-02   \n",
              "3  bjjt8pjhuk           2011-12-05          20091031060129         2012-09-08   \n",
              "4  87mebub9p4           2010-09-14          20091208061105         2010-02-18   \n",
              "\n",
              "      gender   age signup_method  signup_flow language affiliate_channel  \\\n",
              "0  -unknown-   NaN      facebook            0       en            direct   \n",
              "1       MALE  38.0      facebook            0       en               seo   \n",
              "2     FEMALE  56.0         basic            3       en            direct   \n",
              "3     FEMALE  42.0      facebook            0       en            direct   \n",
              "4  -unknown-  41.0         basic            0       en            direct   \n",
              "\n",
              "  affiliate_provider first_affiliate_tracked signup_app first_device_type  \\\n",
              "0             direct               untracked        Web       Mac Desktop   \n",
              "1             google               untracked        Web       Mac Desktop   \n",
              "2             direct               untracked        Web   Windows Desktop   \n",
              "3             direct               untracked        Web       Mac Desktop   \n",
              "4             direct               untracked        Web       Mac Desktop   \n",
              "\n",
              "  first_browser country_destination  \n",
              "0        Chrome                 NDF  \n",
              "1        Chrome                 NDF  \n",
              "2            IE                  US  \n",
              "3       Firefox               other  \n",
              "4        Chrome                  US  "
            ]
          },
          "metadata": {
            "tags": []
          },
          "execution_count": 4
        }
      ]
    },
    {
      "cell_type": "code",
      "metadata": {
        "id": "88Y6Je9R6jDZ",
        "colab_type": "code",
        "colab": {},
        "outputId": "e5902338-1871-4013-d919-79dabb3eae30"
      },
      "source": [
        "sessions.head(10)"
      ],
      "execution_count": null,
      "outputs": [
        {
          "output_type": "execute_result",
          "data": {
            "text/html": [
              "<div>\n",
              "<style scoped>\n",
              "    .dataframe tbody tr th:only-of-type {\n",
              "        vertical-align: middle;\n",
              "    }\n",
              "\n",
              "    .dataframe tbody tr th {\n",
              "        vertical-align: top;\n",
              "    }\n",
              "\n",
              "    .dataframe thead th {\n",
              "        text-align: right;\n",
              "    }\n",
              "</style>\n",
              "<table border=\"1\" class=\"dataframe\">\n",
              "  <thead>\n",
              "    <tr style=\"text-align: right;\">\n",
              "      <th></th>\n",
              "      <th>user_id</th>\n",
              "      <th>action</th>\n",
              "      <th>action_type</th>\n",
              "      <th>action_detail</th>\n",
              "      <th>device_type</th>\n",
              "      <th>secs_elapsed</th>\n",
              "    </tr>\n",
              "  </thead>\n",
              "  <tbody>\n",
              "    <tr>\n",
              "      <th>0</th>\n",
              "      <td>d1mm9tcy42</td>\n",
              "      <td>lookup</td>\n",
              "      <td>NaN</td>\n",
              "      <td>NaN</td>\n",
              "      <td>Windows Desktop</td>\n",
              "      <td>319.0</td>\n",
              "    </tr>\n",
              "    <tr>\n",
              "      <th>1</th>\n",
              "      <td>d1mm9tcy42</td>\n",
              "      <td>search_results</td>\n",
              "      <td>click</td>\n",
              "      <td>view_search_results</td>\n",
              "      <td>Windows Desktop</td>\n",
              "      <td>67753.0</td>\n",
              "    </tr>\n",
              "    <tr>\n",
              "      <th>2</th>\n",
              "      <td>d1mm9tcy42</td>\n",
              "      <td>lookup</td>\n",
              "      <td>NaN</td>\n",
              "      <td>NaN</td>\n",
              "      <td>Windows Desktop</td>\n",
              "      <td>301.0</td>\n",
              "    </tr>\n",
              "    <tr>\n",
              "      <th>3</th>\n",
              "      <td>d1mm9tcy42</td>\n",
              "      <td>search_results</td>\n",
              "      <td>click</td>\n",
              "      <td>view_search_results</td>\n",
              "      <td>Windows Desktop</td>\n",
              "      <td>22141.0</td>\n",
              "    </tr>\n",
              "    <tr>\n",
              "      <th>4</th>\n",
              "      <td>d1mm9tcy42</td>\n",
              "      <td>lookup</td>\n",
              "      <td>NaN</td>\n",
              "      <td>NaN</td>\n",
              "      <td>Windows Desktop</td>\n",
              "      <td>435.0</td>\n",
              "    </tr>\n",
              "    <tr>\n",
              "      <th>5</th>\n",
              "      <td>d1mm9tcy42</td>\n",
              "      <td>search_results</td>\n",
              "      <td>click</td>\n",
              "      <td>view_search_results</td>\n",
              "      <td>Windows Desktop</td>\n",
              "      <td>7703.0</td>\n",
              "    </tr>\n",
              "    <tr>\n",
              "      <th>6</th>\n",
              "      <td>d1mm9tcy42</td>\n",
              "      <td>lookup</td>\n",
              "      <td>NaN</td>\n",
              "      <td>NaN</td>\n",
              "      <td>Windows Desktop</td>\n",
              "      <td>115.0</td>\n",
              "    </tr>\n",
              "    <tr>\n",
              "      <th>7</th>\n",
              "      <td>d1mm9tcy42</td>\n",
              "      <td>personalize</td>\n",
              "      <td>data</td>\n",
              "      <td>wishlist_content_update</td>\n",
              "      <td>Windows Desktop</td>\n",
              "      <td>831.0</td>\n",
              "    </tr>\n",
              "    <tr>\n",
              "      <th>8</th>\n",
              "      <td>d1mm9tcy42</td>\n",
              "      <td>index</td>\n",
              "      <td>view</td>\n",
              "      <td>view_search_results</td>\n",
              "      <td>Windows Desktop</td>\n",
              "      <td>20842.0</td>\n",
              "    </tr>\n",
              "    <tr>\n",
              "      <th>9</th>\n",
              "      <td>d1mm9tcy42</td>\n",
              "      <td>lookup</td>\n",
              "      <td>NaN</td>\n",
              "      <td>NaN</td>\n",
              "      <td>Windows Desktop</td>\n",
              "      <td>683.0</td>\n",
              "    </tr>\n",
              "  </tbody>\n",
              "</table>\n",
              "</div>"
            ],
            "text/plain": [
              "      user_id          action action_type            action_detail  \\\n",
              "0  d1mm9tcy42          lookup         NaN                      NaN   \n",
              "1  d1mm9tcy42  search_results       click      view_search_results   \n",
              "2  d1mm9tcy42          lookup         NaN                      NaN   \n",
              "3  d1mm9tcy42  search_results       click      view_search_results   \n",
              "4  d1mm9tcy42          lookup         NaN                      NaN   \n",
              "5  d1mm9tcy42  search_results       click      view_search_results   \n",
              "6  d1mm9tcy42          lookup         NaN                      NaN   \n",
              "7  d1mm9tcy42     personalize        data  wishlist_content_update   \n",
              "8  d1mm9tcy42           index        view      view_search_results   \n",
              "9  d1mm9tcy42          lookup         NaN                      NaN   \n",
              "\n",
              "       device_type  secs_elapsed  \n",
              "0  Windows Desktop         319.0  \n",
              "1  Windows Desktop       67753.0  \n",
              "2  Windows Desktop         301.0  \n",
              "3  Windows Desktop       22141.0  \n",
              "4  Windows Desktop         435.0  \n",
              "5  Windows Desktop        7703.0  \n",
              "6  Windows Desktop         115.0  \n",
              "7  Windows Desktop         831.0  \n",
              "8  Windows Desktop       20842.0  \n",
              "9  Windows Desktop         683.0  "
            ]
          },
          "metadata": {
            "tags": []
          },
          "execution_count": 5
        }
      ]
    },
    {
      "cell_type": "code",
      "metadata": {
        "id": "dD-u03F76jDc",
        "colab_type": "code",
        "colab": {},
        "outputId": "4d1fce26-62c9-4526-f90f-3633a5ca258f"
      },
      "source": [
        "print(test.shape)\n",
        "print(train.shape)\n",
        "print(sessions.shape)"
      ],
      "execution_count": null,
      "outputs": [
        {
          "output_type": "stream",
          "text": [
            "(62096, 15)\n",
            "(213451, 16)\n",
            "(10567737, 6)\n"
          ],
          "name": "stdout"
        }
      ]
    },
    {
      "cell_type": "markdown",
      "metadata": {
        "id": "nXhm2bkf6jDf",
        "colab_type": "text"
      },
      "source": [
        "Our target feature is 'country_destination,' which can be found in the 'train' dataframe. Given this, let's first explore the sessions data, then merge it with the train dataframe (on 'user_id'), after we are done transforming it."
      ]
    },
    {
      "cell_type": "markdown",
      "metadata": {
        "id": "zaE8mwUF6jDg",
        "colab_type": "text"
      },
      "source": [
        "## Sessions"
      ]
    },
    {
      "cell_type": "code",
      "metadata": {
        "id": "kBdnJoZ96jDh",
        "colab_type": "code",
        "colab": {},
        "outputId": "093aa6a8-e6ae-4f5a-c894-d006c04cf310"
      },
      "source": [
        "sessions.isnull().sum()"
      ],
      "execution_count": null,
      "outputs": [
        {
          "output_type": "execute_result",
          "data": {
            "text/plain": [
              "user_id            34496\n",
              "action             79626\n",
              "action_type      1126204\n",
              "action_detail    1126204\n",
              "device_type            0\n",
              "secs_elapsed      136031\n",
              "dtype: int64"
            ]
          },
          "metadata": {
            "tags": []
          },
          "execution_count": 7
        }
      ]
    },
    {
      "cell_type": "code",
      "metadata": {
        "id": "qB6COi8q6jDk",
        "colab_type": "code",
        "colab": {}
      },
      "source": [
        "#Drop rows where user_id is null because we want to tie everything back to a user.\n",
        "sessions = sessions[sessions.user_id.notnull()]"
      ],
      "execution_count": null,
      "outputs": []
    },
    {
      "cell_type": "code",
      "metadata": {
        "id": "1p7I85s16jDn",
        "colab_type": "code",
        "colab": {},
        "outputId": "eca94c50-427a-471a-bbcd-c5cbf84ba036"
      },
      "source": [
        "sessions.isnull().sum()"
      ],
      "execution_count": null,
      "outputs": [
        {
          "output_type": "execute_result",
          "data": {
            "text/plain": [
              "user_id                0\n",
              "action             79480\n",
              "action_type      1122957\n",
              "action_detail    1122957\n",
              "device_type            0\n",
              "secs_elapsed      135483\n",
              "dtype: int64"
            ]
          },
          "metadata": {
            "tags": []
          },
          "execution_count": 9
        }
      ]
    },
    {
      "cell_type": "code",
      "metadata": {
        "id": "eF4qTeGL6jDr",
        "colab_type": "code",
        "colab": {},
        "outputId": "0a55146a-9340-481f-d205-13056916abdc"
      },
      "source": [
        "# How do nulls in action relate to action_type\n",
        "sessions[sessions.action.isnull()].action_type.value_counts()"
      ],
      "execution_count": null,
      "outputs": [
        {
          "output_type": "execute_result",
          "data": {
            "text/plain": [
              "message_post    79480\n",
              "Name: action_type, dtype: int64"
            ]
          },
          "metadata": {
            "tags": []
          },
          "execution_count": 10
        }
      ]
    },
    {
      "cell_type": "code",
      "metadata": {
        "id": "2Z7F4rKK6jDu",
        "colab_type": "code",
        "colab": {}
      },
      "source": [
        "# Every action with a null value, has action_type equal to 'message_post'.\n",
        "# Let's change all the null values to 'message'\n",
        "sessions.loc[sessions.action.isnull(), 'action'] = 'message'"
      ],
      "execution_count": null,
      "outputs": []
    },
    {
      "cell_type": "code",
      "metadata": {
        "id": "R7zBU25A6jDx",
        "colab_type": "code",
        "colab": {},
        "outputId": "9a58f069-abbd-48a4-b514-de5fa7227587"
      },
      "source": [
        "sessions.isnull().sum()"
      ],
      "execution_count": null,
      "outputs": [
        {
          "output_type": "execute_result",
          "data": {
            "text/plain": [
              "user_id                0\n",
              "action                 0\n",
              "action_type      1122957\n",
              "action_detail    1122957\n",
              "device_type            0\n",
              "secs_elapsed      135483\n",
              "dtype: int64"
            ]
          },
          "metadata": {
            "tags": []
          },
          "execution_count": 12
        }
      ]
    },
    {
      "cell_type": "code",
      "metadata": {
        "scrolled": true,
        "id": "9pJGNC8y6jD0",
        "colab_type": "code",
        "colab": {},
        "outputId": "591b3686-06df-467a-87a6-04c130fcef7f"
      },
      "source": [
        "# action_type and action_detail are missing values in the same rows, this simplifies things a little.\n",
        "print(sessions[sessions.action_type.isnull()].action.value_counts())\n",
        "print()\n",
        "print(sessions[sessions.action_detail.isnull()].action.value_counts())"
      ],
      "execution_count": null,
      "outputs": [
        {
          "output_type": "stream",
          "text": [
            "show                      580485\n",
            "similar_listings_v2       168457\n",
            "lookup                    161422\n",
            "campaigns                 104331\n",
            "track_page_view            80949\n",
            "index                      16682\n",
            "localization_settings       5380\n",
            "uptodate                    3329\n",
            "signed_out_modal            1054\n",
            "currencies                   292\n",
            "update                       225\n",
            "braintree_client_token       120\n",
            "check                        119\n",
            "widget                        75\n",
            "phone_verification            16\n",
            "satisfy                        9\n",
            "disaster_action                6\n",
            "track_activity                 6\n",
            "Name: action, dtype: int64\n",
            "\n",
            "show                      580485\n",
            "similar_listings_v2       168457\n",
            "lookup                    161422\n",
            "campaigns                 104331\n",
            "track_page_view            80949\n",
            "index                      16682\n",
            "localization_settings       5380\n",
            "uptodate                    3329\n",
            "signed_out_modal            1054\n",
            "currencies                   292\n",
            "update                       225\n",
            "braintree_client_token       120\n",
            "check                        119\n",
            "widget                        75\n",
            "phone_verification            16\n",
            "satisfy                        9\n",
            "disaster_action                6\n",
            "track_activity                 6\n",
            "Name: action, dtype: int64\n"
          ],
          "name": "stdout"
        }
      ]
    },
    {
      "cell_type": "markdown",
      "metadata": {
        "id": "BsnZM4Sw6jD8",
        "colab_type": "text"
      },
      "source": [
        "To fill in the null values for action_type and action_detail, we will perform these steps:\n",
        "\n",
        "1. Use the most common value relative to each user and action\n",
        "2. Use the most common value relative to each action\n",
        "3. Use the value 'missing'"
      ]
    },
    {
      "cell_type": "code",
      "metadata": {
        "id": "rpi9b5Rs6jD8",
        "colab_type": "code",
        "colab": {}
      },
      "source": [
        "# function that finds the most common value of a feature, specific to each user and action.\n",
        "def most_common_value_by_user(merge_df, feature): \n",
        "    # Find the value counts for a feature, for each user and action.\n",
        "    new_df = pd.DataFrame(merge_df.groupby(['user_id','action'])[feature].value_counts())\n",
        "    # Set the index to a new feature so that it can be transformed.\n",
        "    new_df['index_tuple'] = new_df.index \n",
        "    # Change the feature name to count, since it is the value count of the feature.\n",
        "    new_df['count'] = new_df[feature]\n",
        "    \n",
        "    new_columns = ['user_id','action',feature]\n",
        "    # separate the features of index_tuple (a list), into their own columns\n",
        "    for n,col in enumerate(new_columns):\n",
        "        new_df[col] = new_df.index_tuple.apply(lambda index_tuple: index_tuple[n])\n",
        "    \n",
        "    # reset index and drop index_tuple\n",
        "    new_df = new_df.reset_index(drop = True)\n",
        "    new_df = new_df.drop(['index_tuple'], axis = 1) \n",
        "    \n",
        "    # Create a new dataframe for each user, action, and the count of the most common feature\n",
        "    new_df_max = pd.DataFrame(new_df.groupby(['user_id','action'], as_index = False)['count'].max())\n",
        "    # Merge dataframes to include the name of the most common feature\n",
        "    new_df_max = new_df_max.merge(new_df, on = ['user_id','action','count'])\n",
        "    # Drop count as it is not needed for the next step\n",
        "    new_df_max = new_df_max.drop('count', axis = 1)\n",
        "    \n",
        "    # Merge with main dataframe (sessions)\n",
        "    merge_df = merge_df.merge(new_df_max, left_on = ['user_id','action'], right_on = ['user_id','action'], how = 'left')\n",
        "    \n",
        "    return merge_df"
      ],
      "execution_count": null,
      "outputs": []
    },
    {
      "cell_type": "code",
      "metadata": {
        "scrolled": true,
        "id": "bxLSFGme6jD_",
        "colab_type": "code",
        "colab": {},
        "outputId": "6da3942c-613e-4851-e9df-a7763dfcf179"
      },
      "source": [
        "sessions = most_common_value_by_user(sessions, 'action_type')\n",
        "print(\"action_type is complete.\")\n",
        "\n",
        "sessions = most_common_value_by_user(sessions, 'action_detail')\n",
        "print(\"action_detail is complete.\")"
      ],
      "execution_count": null,
      "outputs": [
        {
          "output_type": "stream",
          "text": [
            "action_type is complete.\n",
            "action_detail is complete.\n"
          ],
          "name": "stdout"
        }
      ]
    },
    {
      "cell_type": "code",
      "metadata": {
        "id": "6jooqbpy6jEC",
        "colab_type": "code",
        "colab": {}
      },
      "source": [
        "# Replace the nulls with the values from the features created by 'most_common_value_by_user' function.\n",
        "sessions.loc[sessions.action_type_x.isnull(), 'action_type_x'] = sessions.action_type_y\n",
        "sessions.loc[sessions.action_detail_x.isnull(), 'action_detail_x'] = sessions.action_detail_y\n",
        "\n",
        "# Change the features' names to their originals and drop unnecessary features.\n",
        "sessions['action_type'] = sessions.action_type_x\n",
        "sessions['action_detail'] = sessions.action_detail_x\n",
        "sessions = sessions.drop(['action_type_x','action_type_y','action_detail_x','action_detail_y'], axis = 1)"
      ],
      "execution_count": null,
      "outputs": []
    },
    {
      "cell_type": "markdown",
      "metadata": {
        "id": "afIoVeFk6jEF",
        "colab_type": "text"
      },
      "source": [
        "That helped to remove some of the nulls values. Now let's try the more general function."
      ]
    },
    {
      "cell_type": "code",
      "metadata": {
        "id": "yjUEuZ596jEG",
        "colab_type": "code",
        "colab": {},
        "outputId": "78c22396-d6c1-42a1-86a1-a39a47f0689a"
      },
      "source": [
        "sessions.isnull().sum()"
      ],
      "execution_count": null,
      "outputs": [
        {
          "output_type": "execute_result",
          "data": {
            "text/plain": [
              "user_id               0\n",
              "action                0\n",
              "device_type           0\n",
              "secs_elapsed     167233\n",
              "action_type      531386\n",
              "action_detail    531386\n",
              "dtype: int64"
            ]
          },
          "metadata": {
            "tags": []
          },
          "execution_count": 17
        }
      ]
    },
    {
      "cell_type": "code",
      "metadata": {
        "scrolled": true,
        "id": "_g4VTBUR6jEJ",
        "colab_type": "code",
        "colab": {}
      },
      "source": [
        "# function that finds the most common value of a feature, specific to each action.\n",
        "def most_common_value_by_all_users(merge_df, feature):\n",
        "    # Group by action, then find the value counts of the feature\n",
        "    new_df = pd.DataFrame(merge_df.groupby('action')[feature].value_counts())\n",
        "    \n",
        "    # Set the index to a new feature so that it can be transformed.\n",
        "    new_df['index_tuple'] = new_df.index \n",
        "    # Change the feature name to count, since it is the value count of the feature.\n",
        "    new_df['count'] = new_df[feature]\n",
        "    \n",
        "    new_columns = ['action',feature]\n",
        "    # separate the features of index_tuple (a list), into their own columns\n",
        "    for n,col in enumerate(new_columns):\n",
        "        new_df[col] = new_df.index_tuple.apply(lambda index_tuple: index_tuple[n])\n",
        "    \n",
        "    # reset index and drop index_tuple\n",
        "    new_df = new_df.reset_index(drop = True)\n",
        "    new_df = new_df.drop(['index_tuple'], axis = 1) \n",
        "    \n",
        "    # Create a new dataframe for each action, and the count of the most common feature\n",
        "    new_df_max = pd.DataFrame(new_df.groupby('action', as_index = False)['count'].max())\n",
        "    # Merge dataframes to include the name of the most common feature\n",
        "    new_df_max = new_df_max.merge(new_df, on = ['action','count'])\n",
        "    # Drop count as it is not needed for next step\n",
        "    new_df_max = new_df_max.drop('count', axis = 1)\n",
        "    \n",
        "    # Merge dataframe with main dataframe (sessions)\n",
        "    merge_df = merge_df.merge(new_df_max, left_on = 'action', right_on = 'action', how = 'left')\n",
        "    \n",
        "    return merge_df"
      ],
      "execution_count": null,
      "outputs": []
    },
    {
      "cell_type": "code",
      "metadata": {
        "id": "g3g4s_pE6jEN",
        "colab_type": "code",
        "colab": {},
        "outputId": "88f6db9c-cd4c-4839-ce02-a9e76a7509bd"
      },
      "source": [
        "sessions = most_common_value_by_all_users(sessions, 'action_type')\n",
        "print(\"action_type is complete.\")\n",
        "sessions = most_common_value_by_all_users(sessions, 'action_detail')\n",
        "print(\"action_detail is complete.\")"
      ],
      "execution_count": null,
      "outputs": [
        {
          "output_type": "stream",
          "text": [
            "action_type is complete.\n",
            "action_detail is complete.\n"
          ],
          "name": "stdout"
        }
      ]
    },
    {
      "cell_type": "code",
      "metadata": {
        "id": "jMOfeDJQ6jEQ",
        "colab_type": "code",
        "colab": {}
      },
      "source": [
        "# Replace the nulls with the values from the features created by 'most_common_value_by_all_users' function.\n",
        "sessions.loc[sessions.action_type_x.isnull(), 'action_type_x'] = sessions.action_type_y\n",
        "sessions.loc[sessions.action_detail_x.isnull(), 'action_detail_x'] = sessions.action_detail_y\n",
        "\n",
        "# Change the features' names to their originals and drop the unnecessary features.\n",
        "sessions['action_type'] = sessions.action_type_x\n",
        "sessions['action_detail'] = sessions.action_detail_x\n",
        "sessions = sessions.drop(['action_type_x','action_type_y','action_detail_x','action_detail_y'], axis = 1)"
      ],
      "execution_count": null,
      "outputs": []
    },
    {
      "cell_type": "markdown",
      "metadata": {
        "id": "ts81I0-h6jES",
        "colab_type": "text"
      },
      "source": [
        "There are still some null values remaining. Let's take a look at what actions these null values are related to."
      ]
    },
    {
      "cell_type": "code",
      "metadata": {
        "id": "KpUDjT6S6jET",
        "colab_type": "code",
        "colab": {},
        "outputId": "0364cc44-3603-4f2a-b4ea-0e2f0dc2e04f"
      },
      "source": [
        "sessions.isnull().sum()"
      ],
      "execution_count": null,
      "outputs": [
        {
          "output_type": "execute_result",
          "data": {
            "text/plain": [
              "user_id               0\n",
              "action                0\n",
              "device_type           0\n",
              "secs_elapsed     167233\n",
              "action_type      415562\n",
              "action_detail    415562\n",
              "dtype: int64"
            ]
          },
          "metadata": {
            "tags": []
          },
          "execution_count": 21
        }
      ]
    },
    {
      "cell_type": "code",
      "metadata": {
        "id": "J7meqWTM6jEV",
        "colab_type": "code",
        "colab": {},
        "outputId": "a635e01a-b872-46eb-ea75-0c3312e08719"
      },
      "source": [
        "sessions[sessions.action_type.isnull()].action.value_counts()"
      ],
      "execution_count": null,
      "outputs": [
        {
          "output_type": "execute_result",
          "data": {
            "text/plain": [
              "similar_listings_v2       168457\n",
              "lookup                    161422\n",
              "track_page_view            80949\n",
              "uptodate                    3329\n",
              "signed_out_modal            1054\n",
              "braintree_client_token       120\n",
              "check                        119\n",
              "widget                        75\n",
              "phone_verification            16\n",
              "satisfy                        9\n",
              "track_activity                 6\n",
              "disaster_action                6\n",
              "Name: action, dtype: int64"
            ]
          },
          "metadata": {
            "tags": []
          },
          "execution_count": 22
        }
      ]
    },
    {
      "cell_type": "markdown",
      "metadata": {
        "id": "pMpR8gRd6jEY",
        "colab_type": "text"
      },
      "source": [
        "Let's take a look at the value counts for all of the actions to see how their frequency compares to others."
      ]
    },
    {
      "cell_type": "code",
      "metadata": {
        "scrolled": true,
        "id": "hysVAqQP6jEY",
        "colab_type": "code",
        "colab": {},
        "outputId": "39435d20-7bba-4f63-9d17-4c92f611158e"
      },
      "source": [
        "sessions.action.value_counts()"
      ],
      "execution_count": null,
      "outputs": [
        {
          "output_type": "execute_result",
          "data": {
            "text/plain": [
              "show                           2866444\n",
              "index                           893606\n",
              "search_results                  723124\n",
              "personalize                     704782\n",
              "search                          533887\n",
              "ajax_refresh_subtotal           486414\n",
              "update                          370379\n",
              "similar_listings                363423\n",
              "social_connections              337764\n",
              "reviews                         324825\n",
              "create                          225961\n",
              "active                          187370\n",
              "similar_listings_v2             168457\n",
              "lookup                          161422\n",
              "dashboard                       152515\n",
              "header_userpic                  141315\n",
              "collections                     124067\n",
              "edit                            108999\n",
              "campaigns                       104647\n",
              "track_page_view                  80949\n",
              "message                          79484\n",
              "unavailabilities                 77985\n",
              "qt2                              64585\n",
              "notifications                    61946\n",
              "confirm_email                    58565\n",
              "requested                        57068\n",
              "identity                         53550\n",
              "ajax_check_dates                 52426\n",
              "show_personalize                 50353\n",
              "authenticate                     44323\n",
              "                                ...   \n",
              "tos_2014                             2\n",
              "friend_listing                       2\n",
              "rest-of-world                        2\n",
              "views_campaign                       2\n",
              "unsubscribe                          2\n",
              "use_mobile_site                      2\n",
              "confirmation                         2\n",
              "accept_decline                       2\n",
              "preapproval                          2\n",
              "recommendation_page                  2\n",
              "refund_guest_cancellation            2\n",
              "reset_calendar                       2\n",
              "envoy_bank_details_redirect          2\n",
              "special_offer                        2\n",
              "sandy                                2\n",
              "wishlists                            1\n",
              "sldf                                 1\n",
              "reactivate                           1\n",
              "host_cancel                          1\n",
              "events                               1\n",
              "revert_to_admin                      1\n",
              "acculynk_bin_check_failed            1\n",
              "deactivated                          1\n",
              "set_minimum_payout_amount            1\n",
              "desks                                1\n",
              "update_message                       1\n",
              "deauthorize                          1\n",
              "plaxo_cb                             1\n",
              "nyan                                 1\n",
              "deactivate                           1\n",
              "Name: action, Length: 359, dtype: int64"
            ]
          },
          "metadata": {
            "tags": []
          },
          "execution_count": 23
        }
      ]
    },
    {
      "cell_type": "markdown",
      "metadata": {
        "id": "T0MrtRW36jEb",
        "colab_type": "text"
      },
      "source": [
        "'similar_listings_v2', 'lookup', and 'track_page_view' are the three main features with null values. I will give each of them specific values for action_type and action_detail, otherwise I will set the value to 'missing'."
      ]
    },
    {
      "cell_type": "code",
      "metadata": {
        "id": "bwusA5Ha6jEb",
        "colab_type": "code",
        "colab": {},
        "outputId": "8b404dc3-ab8c-4311-94f8-1e2e06946461"
      },
      "source": [
        "# Use these values for 'similar_listings_v2' since they are similar actions.\n",
        "print(sessions[sessions.action == 'similar_listings'].action_type.value_counts())\n",
        "print(sessions[sessions.action == 'similar_listings'].action_detail.value_counts())"
      ],
      "execution_count": null,
      "outputs": [
        {
          "output_type": "stream",
          "text": [
            "data    363423\n",
            "Name: action_type, dtype: int64\n",
            "similar_listings    363423\n",
            "Name: action_detail, dtype: int64\n"
          ],
          "name": "stdout"
        }
      ]
    },
    {
      "cell_type": "code",
      "metadata": {
        "id": "TQ85MCAq6jEi",
        "colab_type": "code",
        "colab": {}
      },
      "source": [
        "sessions.loc[sessions.action == 'similar_listings_v2', 'action_type'] = \"data\"\n",
        "sessions.loc[sessions.action == 'similar_listings_v2', 'action_detail'] = \"similar_listings\"\n",
        "\n",
        "# No other action is similar, so we'll use the same work for all three features.\n",
        "sessions.loc[sessions.action == 'lookup', 'action_type'] = \"lookup\"\n",
        "sessions.loc[sessions.action == 'lookup', 'action_detail'] = \"lookup\"\n",
        "\n",
        "sessions.loc[sessions.action == 'track_page_view', 'action_type'] = \"track_page_view\"\n",
        "sessions.loc[sessions.action == 'track_page_view', 'action_detail'] = \"track_page_view\"\n",
        "\n",
        "sessions.action_type = sessions.action_type.fillna(\"missing\")\n",
        "sessions.action_detail = sessions.action_detail.fillna(\"missing\")"
      ],
      "execution_count": null,
      "outputs": []
    },
    {
      "cell_type": "markdown",
      "metadata": {
        "id": "A3eHJVG16jEl",
        "colab_type": "text"
      },
      "source": [
        "All good. Now just secs_elapsed is left."
      ]
    },
    {
      "cell_type": "code",
      "metadata": {
        "id": "y2nr3CH16jEl",
        "colab_type": "code",
        "colab": {},
        "outputId": "b1b52f6d-fa42-4c90-ea3d-467512bb899b"
      },
      "source": [
        "sessions.isnull().sum()"
      ],
      "execution_count": null,
      "outputs": [
        {
          "output_type": "execute_result",
          "data": {
            "text/plain": [
              "user_id               0\n",
              "action                0\n",
              "device_type           0\n",
              "secs_elapsed     167233\n",
              "action_type           0\n",
              "action_detail         0\n",
              "dtype: int64"
            ]
          },
          "metadata": {
            "tags": []
          },
          "execution_count": 26
        }
      ]
    },
    {
      "cell_type": "markdown",
      "metadata": {
        "id": "edn275ES6jEn",
        "colab_type": "text"
      },
      "source": [
        "To keep things simple, let's fill the nulls with the median value for each action."
      ]
    },
    {
      "cell_type": "code",
      "metadata": {
        "id": "o8sXDcEy6jEo",
        "colab_type": "code",
        "colab": {},
        "outputId": "5079130f-2c3b-456e-a4fc-c807abc906ce"
      },
      "source": [
        "# Find the median secs_elapsed for each action\n",
        "median_duration = pd.DataFrame(sessions.groupby('action', as_index = False)['secs_elapsed'].median())\n",
        "median_duration.head()"
      ],
      "execution_count": null,
      "outputs": [
        {
          "output_type": "execute_result",
          "data": {
            "text/html": [
              "<div>\n",
              "<style scoped>\n",
              "    .dataframe tbody tr th:only-of-type {\n",
              "        vertical-align: middle;\n",
              "    }\n",
              "\n",
              "    .dataframe tbody tr th {\n",
              "        vertical-align: top;\n",
              "    }\n",
              "\n",
              "    .dataframe thead th {\n",
              "        text-align: right;\n",
              "    }\n",
              "</style>\n",
              "<table border=\"1\" class=\"dataframe\">\n",
              "  <thead>\n",
              "    <tr style=\"text-align: right;\">\n",
              "      <th></th>\n",
              "      <th>action</th>\n",
              "      <th>secs_elapsed</th>\n",
              "    </tr>\n",
              "  </thead>\n",
              "  <tbody>\n",
              "    <tr>\n",
              "      <th>0</th>\n",
              "      <td>10</td>\n",
              "      <td>47320.5</td>\n",
              "    </tr>\n",
              "    <tr>\n",
              "      <th>1</th>\n",
              "      <td>11</td>\n",
              "      <td>72764.0</td>\n",
              "    </tr>\n",
              "    <tr>\n",
              "      <th>2</th>\n",
              "      <td>12</td>\n",
              "      <td>180407.0</td>\n",
              "    </tr>\n",
              "    <tr>\n",
              "      <th>3</th>\n",
              "      <td>15</td>\n",
              "      <td>54223.0</td>\n",
              "    </tr>\n",
              "    <tr>\n",
              "      <th>4</th>\n",
              "      <td>about_us</td>\n",
              "      <td>18627.5</td>\n",
              "    </tr>\n",
              "  </tbody>\n",
              "</table>\n",
              "</div>"
            ],
            "text/plain": [
              "     action  secs_elapsed\n",
              "0        10       47320.5\n",
              "1        11       72764.0\n",
              "2        12      180407.0\n",
              "3        15       54223.0\n",
              "4  about_us       18627.5"
            ]
          },
          "metadata": {
            "tags": []
          },
          "execution_count": 27
        }
      ]
    },
    {
      "cell_type": "code",
      "metadata": {
        "id": "ofSUZ2aE6jEq",
        "colab_type": "code",
        "colab": {},
        "outputId": "5cd57ba5-ea1e-4c1d-8cb5-01e55a07683a"
      },
      "source": [
        "# Merge dataframes on action\n",
        "sessions = sessions.merge(median_duration, left_on = 'action', right_on = 'action', how = 'left')\n",
        "print(\"Merge complete.\")\n",
        "# if secs_elapsed is null, fill it with the median value\n",
        "sessions.loc[sessions.secs_elapsed_x.isnull(), 'secs_elapsed_x'] = sessions.secs_elapsed_y\n",
        "print(\"Nulls are filled.\")\n",
        "# Change column name\n",
        "sessions['secs_elapsed'] = sessions.secs_elapsed_x\n",
        "print(\"Column is created.\")\n",
        "# Drop unneeded columns\n",
        "sessions = sessions.drop(['secs_elapsed_x','secs_elapsed_y'], axis = 1)\n",
        "print(\"Columns are dropped.\")"
      ],
      "execution_count": null,
      "outputs": [
        {
          "output_type": "stream",
          "text": [
            "Merge complete.\n",
            "Nulls are filled.\n",
            "Column is created.\n",
            "Columns are dropped.\n"
          ],
          "name": "stdout"
        }
      ]
    },
    {
      "cell_type": "markdown",
      "metadata": {
        "id": "9Wldq0LL6jEu",
        "colab_type": "text"
      },
      "source": [
        "All clean!"
      ]
    },
    {
      "cell_type": "code",
      "metadata": {
        "id": "5qWKEWTL6jEw",
        "colab_type": "code",
        "colab": {},
        "outputId": "a73e818e-f859-4b6d-8c09-5b15174250ed"
      },
      "source": [
        "sessions.isnull().sum()"
      ],
      "execution_count": null,
      "outputs": [
        {
          "output_type": "execute_result",
          "data": {
            "text/plain": [
              "user_id          0\n",
              "action           0\n",
              "device_type      0\n",
              "action_type      0\n",
              "action_detail    0\n",
              "secs_elapsed     0\n",
              "dtype: int64"
            ]
          },
          "metadata": {
            "tags": []
          },
          "execution_count": 29
        }
      ]
    },
    {
      "cell_type": "markdown",
      "metadata": {
        "id": "YPXgvD5I6jEy",
        "colab_type": "text"
      },
      "source": [
        "I think the best next step would be to take the information from sessions and summarize it. We will create a new dataframe, add the most important features, then join it with the train dataframe."
      ]
    },
    {
      "cell_type": "markdown",
      "metadata": {
        "id": "EyifelV06jEy",
        "colab_type": "text"
      },
      "source": [
        "## Sessions' Summary"
      ]
    },
    {
      "cell_type": "code",
      "metadata": {
        "id": "7w1UxTie6jEy",
        "colab_type": "code",
        "colab": {},
        "outputId": "10ce2f54-c392-4801-e0be-1216a1a326ec"
      },
      "source": [
        "sessions.head()"
      ],
      "execution_count": null,
      "outputs": [
        {
          "output_type": "execute_result",
          "data": {
            "text/html": [
              "<div>\n",
              "<style scoped>\n",
              "    .dataframe tbody tr th:only-of-type {\n",
              "        vertical-align: middle;\n",
              "    }\n",
              "\n",
              "    .dataframe tbody tr th {\n",
              "        vertical-align: top;\n",
              "    }\n",
              "\n",
              "    .dataframe thead th {\n",
              "        text-align: right;\n",
              "    }\n",
              "</style>\n",
              "<table border=\"1\" class=\"dataframe\">\n",
              "  <thead>\n",
              "    <tr style=\"text-align: right;\">\n",
              "      <th></th>\n",
              "      <th>user_id</th>\n",
              "      <th>action</th>\n",
              "      <th>device_type</th>\n",
              "      <th>action_type</th>\n",
              "      <th>action_detail</th>\n",
              "      <th>secs_elapsed</th>\n",
              "    </tr>\n",
              "  </thead>\n",
              "  <tbody>\n",
              "    <tr>\n",
              "      <th>0</th>\n",
              "      <td>d1mm9tcy42</td>\n",
              "      <td>lookup</td>\n",
              "      <td>Windows Desktop</td>\n",
              "      <td>lookup</td>\n",
              "      <td>lookup</td>\n",
              "      <td>319.0</td>\n",
              "    </tr>\n",
              "    <tr>\n",
              "      <th>1</th>\n",
              "      <td>d1mm9tcy42</td>\n",
              "      <td>search_results</td>\n",
              "      <td>Windows Desktop</td>\n",
              "      <td>click</td>\n",
              "      <td>view_search_results</td>\n",
              "      <td>67753.0</td>\n",
              "    </tr>\n",
              "    <tr>\n",
              "      <th>2</th>\n",
              "      <td>d1mm9tcy42</td>\n",
              "      <td>lookup</td>\n",
              "      <td>Windows Desktop</td>\n",
              "      <td>lookup</td>\n",
              "      <td>lookup</td>\n",
              "      <td>301.0</td>\n",
              "    </tr>\n",
              "    <tr>\n",
              "      <th>3</th>\n",
              "      <td>d1mm9tcy42</td>\n",
              "      <td>search_results</td>\n",
              "      <td>Windows Desktop</td>\n",
              "      <td>click</td>\n",
              "      <td>view_search_results</td>\n",
              "      <td>22141.0</td>\n",
              "    </tr>\n",
              "    <tr>\n",
              "      <th>4</th>\n",
              "      <td>d1mm9tcy42</td>\n",
              "      <td>lookup</td>\n",
              "      <td>Windows Desktop</td>\n",
              "      <td>lookup</td>\n",
              "      <td>lookup</td>\n",
              "      <td>435.0</td>\n",
              "    </tr>\n",
              "  </tbody>\n",
              "</table>\n",
              "</div>"
            ],
            "text/plain": [
              "      user_id          action      device_type action_type  \\\n",
              "0  d1mm9tcy42          lookup  Windows Desktop      lookup   \n",
              "1  d1mm9tcy42  search_results  Windows Desktop       click   \n",
              "2  d1mm9tcy42          lookup  Windows Desktop      lookup   \n",
              "3  d1mm9tcy42  search_results  Windows Desktop       click   \n",
              "4  d1mm9tcy42          lookup  Windows Desktop      lookup   \n",
              "\n",
              "         action_detail  secs_elapsed  \n",
              "0               lookup         319.0  \n",
              "1  view_search_results       67753.0  \n",
              "2               lookup         301.0  \n",
              "3  view_search_results       22141.0  \n",
              "4               lookup         435.0  "
            ]
          },
          "metadata": {
            "tags": []
          },
          "execution_count": 30
        }
      ]
    },
    {
      "cell_type": "code",
      "metadata": {
        "id": "RMTsYTjM6jE6",
        "colab_type": "code",
        "colab": {}
      },
      "source": [
        "# sessions_summary is set to the number of times a user_id appears in sessions\n",
        "sessions_summary = pd.DataFrame(sessions.user_id.value_counts(sort = False))\n",
        "# Set action_count equal to user_id\n",
        "sessions_summary['action_count'] = sessions_summary.user_id\n",
        "# Set user_id equal to the index\n",
        "sessions_summary['user_id'] = sessions_summary.index\n",
        "# Rest the index\n",
        "sessions_summary = sessions_summary.reset_index(drop = True)"
      ],
      "execution_count": null,
      "outputs": []
    },
    {
      "cell_type": "markdown",
      "metadata": {
        "id": "37OfcWK96jFA",
        "colab_type": "text"
      },
      "source": [
        "Looks good, now let's add some features!"
      ]
    },
    {
      "cell_type": "code",
      "metadata": {
        "id": "xWRvhyQh6jFB",
        "colab_type": "code",
        "colab": {},
        "outputId": "a15c6553-d68a-4064-d95f-0009a58e2512"
      },
      "source": [
        "sessions_summary.head()"
      ],
      "execution_count": null,
      "outputs": [
        {
          "output_type": "execute_result",
          "data": {
            "text/html": [
              "<div>\n",
              "<style scoped>\n",
              "    .dataframe tbody tr th:only-of-type {\n",
              "        vertical-align: middle;\n",
              "    }\n",
              "\n",
              "    .dataframe tbody tr th {\n",
              "        vertical-align: top;\n",
              "    }\n",
              "\n",
              "    .dataframe thead th {\n",
              "        text-align: right;\n",
              "    }\n",
              "</style>\n",
              "<table border=\"1\" class=\"dataframe\">\n",
              "  <thead>\n",
              "    <tr style=\"text-align: right;\">\n",
              "      <th></th>\n",
              "      <th>user_id</th>\n",
              "      <th>action_count</th>\n",
              "    </tr>\n",
              "  </thead>\n",
              "  <tbody>\n",
              "    <tr>\n",
              "      <th>0</th>\n",
              "      <td>0o5w78idph</td>\n",
              "      <td>19</td>\n",
              "    </tr>\n",
              "    <tr>\n",
              "      <th>1</th>\n",
              "      <td>gz3188ya3q</td>\n",
              "      <td>53</td>\n",
              "    </tr>\n",
              "    <tr>\n",
              "      <th>2</th>\n",
              "      <td>zjty1irlkq</td>\n",
              "      <td>23</td>\n",
              "    </tr>\n",
              "    <tr>\n",
              "      <th>3</th>\n",
              "      <td>6qkk58iari</td>\n",
              "      <td>22</td>\n",
              "    </tr>\n",
              "    <tr>\n",
              "      <th>4</th>\n",
              "      <td>3hcq4846mn</td>\n",
              "      <td>44</td>\n",
              "    </tr>\n",
              "  </tbody>\n",
              "</table>\n",
              "</div>"
            ],
            "text/plain": [
              "      user_id  action_count\n",
              "0  0o5w78idph            19\n",
              "1  gz3188ya3q            53\n",
              "2  zjty1irlkq            23\n",
              "3  6qkk58iari            22\n",
              "4  3hcq4846mn            44"
            ]
          },
          "metadata": {
            "tags": []
          },
          "execution_count": 32
        }
      ]
    },
    {
      "cell_type": "code",
      "metadata": {
        "id": "kFT0vuSf6jFF",
        "colab_type": "code",
        "colab": {}
      },
      "source": [
        "# user_duration is the sums of secs_elapsed for each user\n",
        "user_duration = pd.DataFrame(sessions.groupby('user_id').secs_elapsed.sum())\n",
        "user_duration['user_id'] = user_duration.index\n",
        "user_duration = user_duration.reset_index(drop = True)\n",
        "# Merge dataframes\n",
        "sessions_summary = sessions_summary.merge(user_duration)\n",
        "# Create new feature, 'duration', to equal secs_elapsed\n",
        "sessions_summary['duration'] = sessions_summary.secs_elapsed\n",
        "sessions_summary = sessions_summary.drop(\"secs_elapsed\", axis = 1)"
      ],
      "execution_count": null,
      "outputs": []
    },
    {
      "cell_type": "code",
      "metadata": {
        "id": "mIIm3UEy6jFL",
        "colab_type": "code",
        "colab": {},
        "outputId": "984c98a4-1532-42ac-f508-40b947322422"
      },
      "source": [
        "sessions_summary.head()"
      ],
      "execution_count": null,
      "outputs": [
        {
          "output_type": "execute_result",
          "data": {
            "text/html": [
              "<div>\n",
              "<style scoped>\n",
              "    .dataframe tbody tr th:only-of-type {\n",
              "        vertical-align: middle;\n",
              "    }\n",
              "\n",
              "    .dataframe tbody tr th {\n",
              "        vertical-align: top;\n",
              "    }\n",
              "\n",
              "    .dataframe thead th {\n",
              "        text-align: right;\n",
              "    }\n",
              "</style>\n",
              "<table border=\"1\" class=\"dataframe\">\n",
              "  <thead>\n",
              "    <tr style=\"text-align: right;\">\n",
              "      <th></th>\n",
              "      <th>user_id</th>\n",
              "      <th>action_count</th>\n",
              "      <th>duration</th>\n",
              "    </tr>\n",
              "  </thead>\n",
              "  <tbody>\n",
              "    <tr>\n",
              "      <th>0</th>\n",
              "      <td>0o5w78idph</td>\n",
              "      <td>19</td>\n",
              "      <td>1374953.0</td>\n",
              "    </tr>\n",
              "    <tr>\n",
              "      <th>1</th>\n",
              "      <td>gz3188ya3q</td>\n",
              "      <td>53</td>\n",
              "      <td>731085.0</td>\n",
              "    </tr>\n",
              "    <tr>\n",
              "      <th>2</th>\n",
              "      <td>zjty1irlkq</td>\n",
              "      <td>23</td>\n",
              "      <td>1240285.5</td>\n",
              "    </tr>\n",
              "    <tr>\n",
              "      <th>3</th>\n",
              "      <td>6qkk58iari</td>\n",
              "      <td>22</td>\n",
              "      <td>211017.5</td>\n",
              "    </tr>\n",
              "    <tr>\n",
              "      <th>4</th>\n",
              "      <td>3hcq4846mn</td>\n",
              "      <td>44</td>\n",
              "      <td>1075826.0</td>\n",
              "    </tr>\n",
              "  </tbody>\n",
              "</table>\n",
              "</div>"
            ],
            "text/plain": [
              "      user_id  action_count   duration\n",
              "0  0o5w78idph            19  1374953.0\n",
              "1  gz3188ya3q            53   731085.0\n",
              "2  zjty1irlkq            23  1240285.5\n",
              "3  6qkk58iari            22   211017.5\n",
              "4  3hcq4846mn            44  1075826.0"
            ]
          },
          "metadata": {
            "tags": []
          },
          "execution_count": 34
        }
      ]
    },
    {
      "cell_type": "code",
      "metadata": {
        "id": "FrUeCC9L6jFP",
        "colab_type": "code",
        "colab": {}
      },
      "source": [
        ""
      ],
      "execution_count": null,
      "outputs": []
    },
    {
      "cell_type": "code",
      "metadata": {
        "id": "fxOdpkK66jFR",
        "colab_type": "code",
        "colab": {}
      },
      "source": [
        "# This function finds the most common value, for a specific feature, for each user.\n",
        "def most_frequent_value(merge_df, feature):\n",
        "    # Group by the users and find the value counts of the feature\n",
        "    new_df = pd.DataFrame(sessions.groupby('user_id')[feature].value_counts())\n",
        "    # The index is a tuple, and we need to seperate it, so let's create a new feature from it.\n",
        "    new_df['index_tuple'] = new_df.index\n",
        "    # The new columns are the features created from the tuple.\n",
        "    new_columns = ['user_id',feature]\n",
        "    for n,col in enumerate(new_columns):\n",
        "        new_df[col] = new_df.index_tuple.apply(lambda index_tuple: index_tuple[n])\n",
        "    \n",
        "    # Drop the old index (the tuple index)\n",
        "    new_df = new_df.reset_index(drop = True)\n",
        "    # Drop the unneeded feature\n",
        "    new_df = new_df.drop('index_tuple', axis = 1)\n",
        "    # Select the first value for each user, its most common\n",
        "    new_df = new_df.groupby('user_id').first()\n",
        "    \n",
        "    # Set user_id equal to the index, then reset the index\n",
        "    new_df['user_id'] = new_df.index\n",
        "    new_df = new_df.reset_index(drop = True)\n",
        "    \n",
        "    merge_df = merge_df.merge(new_df)\n",
        "    \n",
        "    return merge_df"
      ],
      "execution_count": null,
      "outputs": []
    },
    {
      "cell_type": "code",
      "metadata": {
        "id": "3z2YCRgH6jFU",
        "colab_type": "code",
        "colab": {},
        "outputId": "87911ffe-55c2-4458-c7c6-7e321beb935a"
      },
      "source": [
        "# For each categorical feature in sessions, find the most common value for each user.\n",
        "sessions_feature = ['action','action_type','action_detail','device_type']\n",
        "\n",
        "for feature in sessions_feature:\n",
        "    sessions_summary = most_frequent_value(sessions_summary, feature)\n",
        "    print(\"{} is complete.\".format(feature))"
      ],
      "execution_count": null,
      "outputs": [
        {
          "output_type": "stream",
          "text": [
            "action is complete.\n",
            "action_type is complete.\n",
            "action_detail is complete.\n",
            "device_type is complete.\n"
          ],
          "name": "stdout"
        }
      ]
    },
    {
      "cell_type": "code",
      "metadata": {
        "id": "8QdGfieq6jFW",
        "colab_type": "code",
        "colab": {},
        "outputId": "8ada594e-ef38-45d2-fc25-774cdf760db6"
      },
      "source": [
        "sessions_summary.head()"
      ],
      "execution_count": null,
      "outputs": [
        {
          "output_type": "execute_result",
          "data": {
            "text/html": [
              "<div>\n",
              "<style scoped>\n",
              "    .dataframe tbody tr th:only-of-type {\n",
              "        vertical-align: middle;\n",
              "    }\n",
              "\n",
              "    .dataframe tbody tr th {\n",
              "        vertical-align: top;\n",
              "    }\n",
              "\n",
              "    .dataframe thead th {\n",
              "        text-align: right;\n",
              "    }\n",
              "</style>\n",
              "<table border=\"1\" class=\"dataframe\">\n",
              "  <thead>\n",
              "    <tr style=\"text-align: right;\">\n",
              "      <th></th>\n",
              "      <th>user_id</th>\n",
              "      <th>action_count</th>\n",
              "      <th>duration</th>\n",
              "      <th>action</th>\n",
              "      <th>action_type</th>\n",
              "      <th>action_detail</th>\n",
              "      <th>device_type</th>\n",
              "    </tr>\n",
              "  </thead>\n",
              "  <tbody>\n",
              "    <tr>\n",
              "      <th>0</th>\n",
              "      <td>0o5w78idph</td>\n",
              "      <td>19</td>\n",
              "      <td>1374953.0</td>\n",
              "      <td>create</td>\n",
              "      <td>submit</td>\n",
              "      <td>create_phone_numbers</td>\n",
              "      <td>Tablet</td>\n",
              "    </tr>\n",
              "    <tr>\n",
              "      <th>1</th>\n",
              "      <td>gz3188ya3q</td>\n",
              "      <td>53</td>\n",
              "      <td>731085.0</td>\n",
              "      <td>show</td>\n",
              "      <td>view</td>\n",
              "      <td>-unknown-</td>\n",
              "      <td>Mac Desktop</td>\n",
              "    </tr>\n",
              "    <tr>\n",
              "      <th>2</th>\n",
              "      <td>zjty1irlkq</td>\n",
              "      <td>23</td>\n",
              "      <td>1240285.5</td>\n",
              "      <td>show</td>\n",
              "      <td>view</td>\n",
              "      <td>p3</td>\n",
              "      <td>Tablet</td>\n",
              "    </tr>\n",
              "    <tr>\n",
              "      <th>3</th>\n",
              "      <td>6qkk58iari</td>\n",
              "      <td>22</td>\n",
              "      <td>211017.5</td>\n",
              "      <td>index</td>\n",
              "      <td>view</td>\n",
              "      <td>user_profile</td>\n",
              "      <td>iPhone</td>\n",
              "    </tr>\n",
              "    <tr>\n",
              "      <th>4</th>\n",
              "      <td>3hcq4846mn</td>\n",
              "      <td>44</td>\n",
              "      <td>1075826.0</td>\n",
              "      <td>search_results</td>\n",
              "      <td>view</td>\n",
              "      <td>view_search_results</td>\n",
              "      <td>Windows Desktop</td>\n",
              "    </tr>\n",
              "  </tbody>\n",
              "</table>\n",
              "</div>"
            ],
            "text/plain": [
              "      user_id  action_count   duration          action action_type  \\\n",
              "0  0o5w78idph            19  1374953.0          create      submit   \n",
              "1  gz3188ya3q            53   731085.0            show        view   \n",
              "2  zjty1irlkq            23  1240285.5            show        view   \n",
              "3  6qkk58iari            22   211017.5           index        view   \n",
              "4  3hcq4846mn            44  1075826.0  search_results        view   \n",
              "\n",
              "          action_detail      device_type  \n",
              "0  create_phone_numbers           Tablet  \n",
              "1             -unknown-      Mac Desktop  \n",
              "2                    p3           Tablet  \n",
              "3          user_profile           iPhone  \n",
              "4   view_search_results  Windows Desktop  "
            ]
          },
          "metadata": {
            "tags": []
          },
          "execution_count": 37
        }
      ]
    },
    {
      "cell_type": "code",
      "metadata": {
        "id": "_wSbngls6jFc",
        "colab_type": "code",
        "colab": {}
      },
      "source": [
        "#  # Create a dataframe by grouping the users and the feature\n",
        "# unique_feature = pd.DataFrame(sessions.groupby('user_id')['action'].unique())\n",
        "# unique_feature['user_id'] = unique_feature.index\n",
        "# unique_feature = unique_feature.reset_index(drop = True)\n",
        "# # Create a new feature equal to the number of unique features for each user\n",
        "# unique_feature['unique_actions'] = unique_feature['action'].map(lambda x: len(x))\n",
        "# # Drop the needed feature\n",
        "# unique_feature = unique_feature.drop('action', axis = 1)\n",
        "# sessions_summary = sessions_summary.merge(unique_feature, on = 'user_id')"
      ],
      "execution_count": null,
      "outputs": []
    },
    {
      "cell_type": "code",
      "metadata": {
        "id": "stVd37B_6jFf",
        "colab_type": "code",
        "colab": {},
        "outputId": "cea9bca3-8376-4c15-d9f6-0fbbd65c76dc"
      },
      "source": [
        "sessions_summary.head()"
      ],
      "execution_count": null,
      "outputs": [
        {
          "output_type": "execute_result",
          "data": {
            "text/html": [
              "<div>\n",
              "<style scoped>\n",
              "    .dataframe tbody tr th:only-of-type {\n",
              "        vertical-align: middle;\n",
              "    }\n",
              "\n",
              "    .dataframe tbody tr th {\n",
              "        vertical-align: top;\n",
              "    }\n",
              "\n",
              "    .dataframe thead th {\n",
              "        text-align: right;\n",
              "    }\n",
              "</style>\n",
              "<table border=\"1\" class=\"dataframe\">\n",
              "  <thead>\n",
              "    <tr style=\"text-align: right;\">\n",
              "      <th></th>\n",
              "      <th>user_id</th>\n",
              "      <th>action_count</th>\n",
              "      <th>duration</th>\n",
              "      <th>action</th>\n",
              "      <th>action_type</th>\n",
              "      <th>action_detail</th>\n",
              "      <th>device_type</th>\n",
              "    </tr>\n",
              "  </thead>\n",
              "  <tbody>\n",
              "    <tr>\n",
              "      <th>0</th>\n",
              "      <td>0o5w78idph</td>\n",
              "      <td>19</td>\n",
              "      <td>1374953.0</td>\n",
              "      <td>create</td>\n",
              "      <td>submit</td>\n",
              "      <td>create_phone_numbers</td>\n",
              "      <td>Tablet</td>\n",
              "    </tr>\n",
              "    <tr>\n",
              "      <th>1</th>\n",
              "      <td>gz3188ya3q</td>\n",
              "      <td>53</td>\n",
              "      <td>731085.0</td>\n",
              "      <td>show</td>\n",
              "      <td>view</td>\n",
              "      <td>-unknown-</td>\n",
              "      <td>Mac Desktop</td>\n",
              "    </tr>\n",
              "    <tr>\n",
              "      <th>2</th>\n",
              "      <td>zjty1irlkq</td>\n",
              "      <td>23</td>\n",
              "      <td>1240285.5</td>\n",
              "      <td>show</td>\n",
              "      <td>view</td>\n",
              "      <td>p3</td>\n",
              "      <td>Tablet</td>\n",
              "    </tr>\n",
              "    <tr>\n",
              "      <th>3</th>\n",
              "      <td>6qkk58iari</td>\n",
              "      <td>22</td>\n",
              "      <td>211017.5</td>\n",
              "      <td>index</td>\n",
              "      <td>view</td>\n",
              "      <td>user_profile</td>\n",
              "      <td>iPhone</td>\n",
              "    </tr>\n",
              "    <tr>\n",
              "      <th>4</th>\n",
              "      <td>3hcq4846mn</td>\n",
              "      <td>44</td>\n",
              "      <td>1075826.0</td>\n",
              "      <td>search_results</td>\n",
              "      <td>view</td>\n",
              "      <td>view_search_results</td>\n",
              "      <td>Windows Desktop</td>\n",
              "    </tr>\n",
              "  </tbody>\n",
              "</table>\n",
              "</div>"
            ],
            "text/plain": [
              "      user_id  action_count   duration          action action_type  \\\n",
              "0  0o5w78idph            19  1374953.0          create      submit   \n",
              "1  gz3188ya3q            53   731085.0            show        view   \n",
              "2  zjty1irlkq            23  1240285.5            show        view   \n",
              "3  6qkk58iari            22   211017.5           index        view   \n",
              "4  3hcq4846mn            44  1075826.0  search_results        view   \n",
              "\n",
              "          action_detail      device_type  \n",
              "0  create_phone_numbers           Tablet  \n",
              "1             -unknown-      Mac Desktop  \n",
              "2                    p3           Tablet  \n",
              "3          user_profile           iPhone  \n",
              "4   view_search_results  Windows Desktop  "
            ]
          },
          "metadata": {
            "tags": []
          },
          "execution_count": 39
        }
      ]
    },
    {
      "cell_type": "code",
      "metadata": {
        "id": "60AP7C876jFp",
        "colab_type": "code",
        "colab": {}
      },
      "source": [
        "# This function finds the number of unique values of a feature for each user.\n",
        "def unique_features(feature, feature_name, merge_df):\n",
        "    # Create a dataframe by grouping the users and the feature\n",
        "    unique_feature = pd.DataFrame(sessions.groupby('user_id')[feature].unique())\n",
        "    unique_feature['user_id'] = unique_feature.index\n",
        "    unique_feature = unique_feature.reset_index(drop = True)\n",
        "    # Create a new feature equal to the number of unique features for each user\n",
        "    unique_feature[feature_name] = unique_feature[feature].map(lambda x: len(x))\n",
        "    # Drop the needed feature\n",
        "    unique_feature = unique_feature.drop(feature, axis = 1)\n",
        "    merge_df = merge_df.merge(unique_feature, on = 'user_id')\n",
        "    return merge_df"
      ],
      "execution_count": null,
      "outputs": []
    },
    {
      "cell_type": "code",
      "metadata": {
        "id": "bVBR2Ewc6jFu",
        "colab_type": "code",
        "colab": {},
        "outputId": "6ad25572-b403-4fc6-c305-f1ab8be5c7c4"
      },
      "source": [
        "# Apply unique_features to each of the categorical features in sessions\n",
        "sessions_summary = unique_features('action', 'unique_actions', sessions_summary)\n",
        "print(\"action is complete.\")\n",
        "sessions_summary = unique_features('action_type', 'unique_action_types', sessions_summary)\n",
        "print(\"action_type is complete.\")\n",
        "sessions_summary = unique_features('action_detail', 'unique_action_details', sessions_summary)\n",
        "print(\"action_detail is complete.\")\n",
        "sessions_summary = unique_features('device_type', 'unique_device_types', sessions_summary)\n",
        "print(\"device_type is complete.\")"
      ],
      "execution_count": null,
      "outputs": [
        {
          "output_type": "stream",
          "text": [
            "action is complete.\n",
            "action_type is complete.\n"
          ],
          "name": "stdout"
        }
      ]
    },
    {
      "cell_type": "code",
      "metadata": {
        "id": "OmupQk1Y6jGE",
        "colab_type": "code",
        "colab": {}
      },
      "source": [
        "sessions_summary.head()"
      ],
      "execution_count": null,
      "outputs": []
    },
    {
      "cell_type": "code",
      "metadata": {
        "id": "oAmfAQaz6jGJ",
        "colab_type": "code",
        "colab": {}
      },
      "source": [
        "# Find the maximum and minimum secs_elapsed/duration for each user in sessions.\n",
        "max_durations = pd.DataFrame(sessions.groupby(['user_id'], as_index = False)['secs_elapsed'].max())\n",
        "sessions_summary = sessions_summary.merge(max_durations, on = 'user_id')\n",
        "sessions_summary['max_duration'] = sessions_summary.secs_elapsed\n",
        "sessions_summary = sessions_summary.drop('secs_elapsed', axis = 1)\n",
        "\n",
        "print(\"max_durations is complete.\")\n",
        "\n",
        "min_durations = pd.DataFrame(sessions.groupby(['user_id'], as_index = False)['secs_elapsed'].min())\n",
        "sessions_summary = sessions_summary.merge(min_durations, on = 'user_id')\n",
        "sessions_summary['min_duration'] = sessions_summary.secs_elapsed\n",
        "sessions_summary = sessions_summary.drop('secs_elapsed', axis = 1)\n",
        "\n",
        "print(\"min_durations is complete.\")"
      ],
      "execution_count": null,
      "outputs": []
    },
    {
      "cell_type": "code",
      "metadata": {
        "id": "_P6RbCgX6jGN",
        "colab_type": "code",
        "colab": {}
      },
      "source": [
        "# Find the average duration for each user\n",
        "sessions_summary['avg_duration'] = sessions_summary.duration / sessions_summary.action_count"
      ],
      "execution_count": null,
      "outputs": []
    },
    {
      "cell_type": "code",
      "metadata": {
        "id": "UemhPHsP6jGP",
        "colab_type": "code",
        "colab": {}
      },
      "source": [
        "sessions_summary.head(5)"
      ],
      "execution_count": null,
      "outputs": []
    },
    {
      "cell_type": "code",
      "metadata": {
        "id": "6zRMcuJm6jGR",
        "colab_type": "code",
        "colab": {}
      },
      "source": [
        "# Add new features based on the type of device that the user used most frequently.\n",
        "apple_device = ['Mac Desktop','iPhone','iPdad Tablet','iPodtouch']\n",
        "desktop_device = ['Mac Desktop','Windows Desktop','Chromebook','Linux Desktop']\n",
        "tablet_device = ['Android App Unknown Phone/Tablet','iPad Tablet','Tablet']\n",
        "mobile_device = ['Android Phone','iPhone','Windows Phone','Blackberry','Opera Phone']\n",
        "\n",
        "device_types = {'apple_device': apple_device, \n",
        "                'desktop_device': desktop_device,\n",
        "                'tablet_device': tablet_device,\n",
        "                'mobile_device': mobile_device}\n",
        "\n",
        "for device in device_types:\n",
        "    sessions_summary[device] = 0\n",
        "    sessions_summary.loc[sessions_summary.device_type.isin(device_types[device]), device] = 1"
      ],
      "execution_count": null,
      "outputs": []
    },
    {
      "cell_type": "code",
      "metadata": {
        "id": "TGwmbNwc6jGV",
        "colab_type": "code",
        "colab": {}
      },
      "source": [
        "sessions_summary.head()"
      ],
      "execution_count": null,
      "outputs": []
    },
    {
      "cell_type": "code",
      "metadata": {
        "scrolled": true,
        "id": "eE8VgPTX6jGX",
        "colab_type": "code",
        "colab": {}
      },
      "source": [
        "# Check if there are any null values before merging with train.\n",
        "sessions_summary.isnull().sum()"
      ],
      "execution_count": null,
      "outputs": []
    },
    {
      "cell_type": "code",
      "metadata": {
        "id": "f-y0NHYY6jGe",
        "colab_type": "code",
        "colab": {}
      },
      "source": [
        "print(sessions_summary.shape)\n",
        "print(train.shape)\n",
        "print(test.shape)"
      ],
      "execution_count": null,
      "outputs": []
    },
    {
      "cell_type": "code",
      "metadata": {
        "id": "x8S66TjR6jGg",
        "colab_type": "code",
        "colab": {}
      },
      "source": [
        "# Merge train and test with sessions_summary\n",
        "train1 = pd.merge(train,sessions_summary, left_on = train['id'], right_on = sessions_summary['user_id'], how = 'inner')\n",
        "# train2 is equal to the users that are not in train1\n",
        "train2 = train[~train.id.isin(train1.id)]\n",
        "train = pd.concat([train1, train2])\n",
        "\n",
        "test1 = test.merge(sessions_summary, left_on = test['id'], right_on = sessions_summary['user_id'], how = 'inner')\n",
        "# test2 is equal to the users that are not in test1\n",
        "test2 = test[~test.id.isin(test1.id)]\n",
        "test = pd.concat([test1, test2])"
      ],
      "execution_count": null,
      "outputs": []
    },
    {
      "cell_type": "markdown",
      "metadata": {
        "id": "csGo19_I6jGu",
        "colab_type": "text"
      },
      "source": [
        "The next step is to transform the features so that they are ready for training the neural network."
      ]
    },
    {
      "cell_type": "markdown",
      "metadata": {
        "id": "3fvFx0hB6jGv",
        "colab_type": "text"
      },
      "source": [
        "## Feature Engineering"
      ]
    },
    {
      "cell_type": "code",
      "metadata": {
        "id": "GTUxc7fg6jGv",
        "colab_type": "code",
        "colab": {}
      },
      "source": [
        "train.head()"
      ],
      "execution_count": null,
      "outputs": []
    },
    {
      "cell_type": "code",
      "metadata": {
        "id": "0ywikK346jGz",
        "colab_type": "code",
        "colab": {}
      },
      "source": [
        "# Concatenate train and test because all transformations need to happen to both dataframes.\n",
        "df = pd.concat([train,test], sort =False)"
      ],
      "execution_count": null,
      "outputs": []
    },
    {
      "cell_type": "code",
      "metadata": {
        "id": "0hDkxeas6jG6",
        "colab_type": "code",
        "colab": {}
      },
      "source": [
        ""
      ],
      "execution_count": null,
      "outputs": []
    },
    {
      "cell_type": "code",
      "metadata": {
        "scrolled": true,
        "id": "bj2FX9FB6jG7",
        "colab_type": "code",
        "colab": {}
      },
      "source": [
        "df.head()"
      ],
      "execution_count": null,
      "outputs": []
    },
    {
      "cell_type": "code",
      "metadata": {
        "id": "3OBJkMAT6jG9",
        "colab_type": "code",
        "colab": {}
      },
      "source": [
        "df.shape"
      ],
      "execution_count": null,
      "outputs": []
    },
    {
      "cell_type": "code",
      "metadata": {
        "id": "B34wa7rT6jHA",
        "colab_type": "code",
        "colab": {}
      },
      "source": [
        "df.isnull().sum()"
      ],
      "execution_count": null,
      "outputs": []
    },
    {
      "cell_type": "code",
      "metadata": {
        "id": "5tgvV0Hu6jHB",
        "colab_type": "code",
        "colab": {}
      },
      "source": [
        "# We don't need this because we already have id and it has 0 null values.\n",
        "df = df.drop('user_id', axis = 1)\n",
        "df = df.drop('key_0', axis = 1)"
      ],
      "execution_count": null,
      "outputs": []
    },
    {
      "cell_type": "markdown",
      "metadata": {
        "id": "kP3bwWCX6jHF",
        "colab_type": "text"
      },
      "source": [
        "Since there are many users that do not appear in the sessions dataframe, all of their values are NaN. Let's sort out those nulls values first."
      ]
    },
    {
      "cell_type": "code",
      "metadata": {
        "id": "we4TzRuY6jHG",
        "colab_type": "code",
        "colab": {}
      },
      "source": [
        "def missing_session_data_cat(feature):\n",
        "    return df[feature].fillna(\"missing\")\n",
        "\n",
        "def missing_session_data_cont(feature):\n",
        "    return df[feature].fillna(0)"
      ],
      "execution_count": null,
      "outputs": []
    },
    {
      "cell_type": "code",
      "metadata": {
        "id": "jDubK3zb6jHI",
        "colab_type": "code",
        "colab": {}
      },
      "source": [
        "session_features_cat = ['action','action_detail','action_type','device_type']\n",
        "session_features_cont = ['action_count','apple_device','desktop_device','mobile_device','tablet_device',\n",
        "                         'duration','avg_duration','max_duration','min_duration','unique_action_details',\n",
        "                         'unique_action_types','unique_actions','unique_device_types']\n",
        "\n",
        "for feature in session_features_cat:\n",
        "    df[feature] = missing_session_data_cat(feature)\n",
        "    \n",
        "for feature in session_features_cont:\n",
        "    df[feature] = missing_session_data_cont(feature)"
      ],
      "execution_count": null,
      "outputs": []
    },
    {
      "cell_type": "markdown",
      "metadata": {
        "id": "njWux2db6jHK",
        "colab_type": "text"
      },
      "source": [
        "That removed most of the null values!"
      ]
    },
    {
      "cell_type": "code",
      "metadata": {
        "scrolled": true,
        "id": "UMk9YbC86jHK",
        "colab_type": "code",
        "colab": {}
      },
      "source": [
        "df.isnull().sum()"
      ],
      "execution_count": null,
      "outputs": []
    },
    {
      "cell_type": "code",
      "metadata": {
        "id": "RGaofzCE6jHM",
        "colab_type": "code",
        "colab": {}
      },
      "source": [
        "df.action_count.describe()"
      ],
      "execution_count": null,
      "outputs": []
    },
    {
      "cell_type": "code",
      "metadata": {
        "id": "HZ9XZquC6jHO",
        "colab_type": "code",
        "colab": {}
      },
      "source": [
        "df[df.action_count > 0].action_count.describe()"
      ],
      "execution_count": null,
      "outputs": []
    },
    {
      "cell_type": "code",
      "metadata": {
        "scrolled": true,
        "id": "IOaPSaR66jHQ",
        "colab_type": "code",
        "colab": {}
      },
      "source": [
        "plt.hist(df[df.action_count > 0].action_count)\n",
        "plt.yscale('log')\n",
        "plt.show()"
      ],
      "execution_count": null,
      "outputs": []
    },
    {
      "cell_type": "code",
      "metadata": {
        "id": "0WOJEg3U6jHR",
        "colab_type": "code",
        "colab": {}
      },
      "source": [
        "# Group action_count into quartiles.\n",
        "df['action_count_quartile'] = df.action_count.map(lambda x: 0 if x == 0 else (\n",
        "                                                            1 if x <= 17 else (\n",
        "                                                            2 if x <= 43 else (\n",
        "                                                            3 if x <= 97 else 4))))"
      ],
      "execution_count": null,
      "outputs": []
    },
    {
      "cell_type": "code",
      "metadata": {
        "id": "b0qNC_V66jHU",
        "colab_type": "code",
        "colab": {}
      },
      "source": [
        "df[df.age.notnull()].age.describe()"
      ],
      "execution_count": null,
      "outputs": []
    },
    {
      "cell_type": "code",
      "metadata": {
        "id": "uMp_ziko6jHW",
        "colab_type": "code",
        "colab": {}
      },
      "source": [
        "plt.hist(df[df.age <= 100].age, bins = 80)\n",
        "plt.show()"
      ],
      "execution_count": null,
      "outputs": []
    },
    {
      "cell_type": "markdown",
      "metadata": {
        "id": "MEckza7H6jHa",
        "colab_type": "text"
      },
      "source": [
        "No one is 2014 years old. If anyone is older than 80, let's bring their age down to 80...I'm sure some of them wouldn't mind that."
      ]
    },
    {
      "cell_type": "code",
      "metadata": {
        "id": "wvnFEX4u6jHb",
        "colab_type": "code",
        "colab": {}
      },
      "source": [
        "df.loc[df.age > 80, 'age'] = 80"
      ],
      "execution_count": null,
      "outputs": []
    },
    {
      "cell_type": "code",
      "metadata": {
        "id": "oDa2qrWB6jHc",
        "colab_type": "code",
        "colab": {}
      },
      "source": [
        "df[df.age.notnull()].age.describe()"
      ],
      "execution_count": null,
      "outputs": []
    },
    {
      "cell_type": "markdown",
      "metadata": {
        "id": "u5I2OYin6jHf",
        "colab_type": "text"
      },
      "source": [
        "Let's see if there is a feature that is correlated with age, to help find good values for the nulls"
      ]
    },
    {
      "cell_type": "code",
      "metadata": {
        "scrolled": true,
        "id": "J_gooxu46jHf",
        "colab_type": "code",
        "colab": {}
      },
      "source": [
        "for feature in df.columns:\n",
        "    if(df[feature].dtype == float or df[feature].dtype == int):\n",
        "        correlation = stats.pearsonr(df[df.age.notnull()].age, df[df.age.notnull()][feature])\n",
        "        print(\"Correlation with {} = {}\".format(feature, correlation)) "
      ],
      "execution_count": null,
      "outputs": []
    },
    {
      "cell_type": "markdown",
      "metadata": {
        "id": "RFY6pLVo6jHh",
        "colab_type": "text"
      },
      "source": [
        "Unfortunately, nothing is really correlated with age. Since there are too many missing values for age, I'm going to set the missing values equal to the median, 33."
      ]
    },
    {
      "cell_type": "code",
      "metadata": {
        "id": "vxSJMMxo6jHi",
        "colab_type": "code",
        "colab": {}
      },
      "source": [
        "# Create age_group before filling in the nulls, so that the distribution is not altered.\n",
        "df['age_group'] = df.age.map(lambda x: 0 if math.isnan(x) else (\n",
        "                                       1 if x < 18 else (\n",
        "                                       2 if x <= 33 else (\n",
        "                                       3 if x <= 42 else 4))))"
      ],
      "execution_count": null,
      "outputs": []
    },
    {
      "cell_type": "code",
      "metadata": {
        "id": "8s4qiGRx6jHj",
        "colab_type": "code",
        "colab": {}
      },
      "source": [
        "df.age = df.age.fillna(33)"
      ],
      "execution_count": null,
      "outputs": []
    },
    {
      "cell_type": "code",
      "metadata": {
        "id": "-sobGtmO6jHq",
        "colab_type": "code",
        "colab": {}
      },
      "source": [
        "df.age.isnull().sum()"
      ],
      "execution_count": null,
      "outputs": []
    },
    {
      "cell_type": "code",
      "metadata": {
        "id": "7mqQfmgj6jHs",
        "colab_type": "code",
        "colab": {}
      },
      "source": [
        "plt.figure(figsize=(8,4))\n",
        "plt.hist(df.duration, bins = 100)\n",
        "plt.title(\"Duration\")\n",
        "plt.xlabel(\"Duration\")\n",
        "plt.ylabel(\"Number of Users\")\n",
        "plt.yscale('log')\n",
        "plt.show()"
      ],
      "execution_count": null,
      "outputs": []
    },
    {
      "cell_type": "code",
      "metadata": {
        "id": "mEeTyhaE6jHu",
        "colab_type": "code",
        "colab": {}
      },
      "source": [
        "plt.figure(figsize=(8,4))\n",
        "plt.hist(df.avg_duration, bins = 100)\n",
        "plt.title(\"Average Duration\")\n",
        "plt.xlabel(\"Average Duration\")\n",
        "plt.ylabel(\"Number of Users\")\n",
        "plt.yscale('log')\n",
        "plt.show()"
      ],
      "execution_count": null,
      "outputs": []
    },
    {
      "cell_type": "code",
      "metadata": {
        "id": "dPoyEnY26jHw",
        "colab_type": "code",
        "colab": {}
      },
      "source": [
        "print(df.duration.describe())\n",
        "print()\n",
        "print(df.avg_duration.describe())"
      ],
      "execution_count": null,
      "outputs": []
    },
    {
      "cell_type": "code",
      "metadata": {
        "id": "c6LdoJ6e6jHx",
        "colab_type": "code",
        "colab": {}
      },
      "source": [
        "print(np.percentile(df.duration, 50))\n",
        "print(np.percentile(df.duration, 51))\n",
        "print(np.percentile(df.duration, 75))\n",
        "print()\n",
        "print(np.percentile(df.avg_duration, 50))\n",
        "print(np.percentile(df.avg_duration, 51))\n",
        "print(np.percentile(df.avg_duration, 75))"
      ],
      "execution_count": null,
      "outputs": []
    },
    {
      "cell_type": "code",
      "metadata": {
        "id": "9v-Wj4iA6jH2",
        "colab_type": "code",
        "colab": {}
      },
      "source": [
        "# Divide users into 3 equal-ish groups\n",
        "df['duration_group'] = df.duration.map(lambda x: 0 if x == 0 else (\n",
        "                                                 1 if x <= 877166.25 else 2))\n",
        "\n",
        "df['avg_duration_group'] = df.avg_duration.map(lambda x: 0 if x == 0 else (\n",
        "                                                         1 if x <= 16553.7889474 else 2))"
      ],
      "execution_count": null,
      "outputs": []
    },
    {
      "cell_type": "code",
      "metadata": {
        "id": "3CKdaXJS6jH5",
        "colab_type": "code",
        "colab": {}
      },
      "source": [
        "print(df.duration_group.value_counts())\n",
        "print()\n",
        "print(df.avg_duration_group.value_counts())"
      ],
      "execution_count": null,
      "outputs": []
    },
    {
      "cell_type": "markdown",
      "metadata": {
        "id": "R6CZFWgb6jH8",
        "colab_type": "text"
      },
      "source": [
        "There are too many unknowns to try to group them with a gender. I'm going to leave OTHER because it could/probably represent(s) people who do not identify as either male/female."
      ]
    },
    {
      "cell_type": "code",
      "metadata": {
        "id": "GG6tHHq-6jH8",
        "colab_type": "code",
        "colab": {}
      },
      "source": [
        "df.gender.value_counts()"
      ],
      "execution_count": null,
      "outputs": []
    },
    {
      "cell_type": "code",
      "metadata": {
        "id": "rSpFVb5H6jIA",
        "colab_type": "code",
        "colab": {}
      },
      "source": [
        "df.mobile_device.value_counts()"
      ],
      "execution_count": null,
      "outputs": []
    },
    {
      "cell_type": "code",
      "metadata": {
        "id": "ePkzI4W66jID",
        "colab_type": "code",
        "colab": {}
      },
      "source": [
        "df.signup_flow.value_counts()"
      ],
      "execution_count": null,
      "outputs": []
    },
    {
      "cell_type": "code",
      "metadata": {
        "id": "CFYM0kXt6jIF",
        "colab_type": "code",
        "colab": {}
      },
      "source": [
        "# If signup_flow == 0, signup_flow_simple == 0\n",
        "# If signup_flow > 0, signup_flow_simple == 1\n",
        "df['signup_flow_simple'] = df.signup_flow.map(lambda x: 0 if x == 0 else 1)"
      ],
      "execution_count": null,
      "outputs": []
    },
    {
      "cell_type": "code",
      "metadata": {
        "id": "JZ3eBHgE6jIH",
        "colab_type": "code",
        "colab": {}
      },
      "source": [
        "df['signup_flow_simple'].value_counts()"
      ],
      "execution_count": null,
      "outputs": []
    },
    {
      "cell_type": "code",
      "metadata": {
        "scrolled": true,
        "id": "uRLK4w4d6jIJ",
        "colab_type": "code",
        "colab": {}
      },
      "source": [
        "df.tablet_device.value_counts()"
      ],
      "execution_count": null,
      "outputs": []
    },
    {
      "cell_type": "code",
      "metadata": {
        "scrolled": true,
        "id": "3M3AY_rG6jIK",
        "colab_type": "code",
        "colab": {}
      },
      "source": [
        "# Convert dates to datetime for manipulation\n",
        "df.date_account_created = pd.to_datetime(df.date_account_created, format='%Y-%m-%d')\n",
        "df.date_first_booking = pd.to_datetime(df.date_first_booking, format='%Y-%m-%d')"
      ],
      "execution_count": null,
      "outputs": []
    },
    {
      "cell_type": "code",
      "metadata": {
        "id": "vMvD0JHV6jIM",
        "colab_type": "code",
        "colab": {}
      },
      "source": [
        "# Check to make sure the date range makes sense.\n",
        "print(df.date_account_created.min())\n",
        "print(df.date_account_created.max())\n",
        "print()\n",
        "print(df.date_first_booking.min())\n",
        "print(df.date_first_booking.max())"
      ],
      "execution_count": null,
      "outputs": []
    },
    {
      "cell_type": "code",
      "metadata": {
        "id": "1O1-g8KP6jIN",
        "colab_type": "code",
        "colab": {}
      },
      "source": [
        "# calendar contains more years of information than we need.\n",
        "calendar = USFederalHolidayCalendar()\n",
        "# Set holidays equal to the holidays in our date range.\n",
        "holidays = calendar.holidays(start = df.date_account_created.min(), \n",
        "                             end = df.date_first_booking.max())\n",
        "\n",
        "# us_bd contains more years of information than we need.\n",
        "us_bd = CustomBusinessDay(calendar = USFederalHolidayCalendar())\n",
        "# Set business_days equal to the work days in our date range.\n",
        "business_days = pd.DatetimeIndex(start = df.date_account_created.min(), \n",
        "                                 end = df.date_first_booking.max(), \n",
        "                                 freq = us_bd)"
      ],
      "execution_count": null,
      "outputs": []
    },
    {
      "cell_type": "code",
      "metadata": {
        "scrolled": true,
        "id": "SHUeG3cR6jIP",
        "colab_type": "code",
        "colab": {}
      },
      "source": [
        "# Create date features\n",
        "df['year_account_created'] = df.date_account_created.dt.year\n",
        "df['month_account_created'] = df.date_account_created.dt.month\n",
        "df['weekday_account_created'] = df.date_account_created.dt.weekday\n",
        "df['business_day_account_created'] = df.date_account_created.isin(business_days)\n",
        "df['business_day_account_created'] = df.business_day_account_created.map(lambda x: 1 if x == True else 0)\n",
        "df['holiday_account_created'] = df.date_account_created.isin(holidays)\n",
        "df['holiday_account_created'] = df.holiday_account_created.map(lambda x: 1 if x == True else 0)\n",
        "\n",
        "df['year_first_booking'] = df.date_first_booking.dt.year\n",
        "df['month_first_booking'] = df.date_first_booking.dt.month\n",
        "df['weekday_first_booking'] = df.date_first_booking.dt.weekday\n",
        "df['business_day_first_booking'] = df.date_first_booking.isin(business_days)\n",
        "df['business_day_first_booking'] = df.business_day_first_booking.map(lambda x: 1 if x == True else 0)\n",
        "df['holiday_first_booking'] = df.date_first_booking.isin(holidays)\n",
        "df['holiday_first_booking'] = df.holiday_first_booking.map(lambda x: 1 if x == True else 0)\n",
        "\n",
        "# Drop unneeded features\n",
        "df = df.drop([\"date_first_booking\",\"date_account_created\"], axis = 1)"
      ],
      "execution_count": null,
      "outputs": []
    },
    {
      "cell_type": "code",
      "metadata": {
        "scrolled": true,
        "id": "17g3rRnc6jIQ",
        "colab_type": "code",
        "colab": {}
      },
      "source": [
        "df.isnull().sum()"
      ],
      "execution_count": null,
      "outputs": []
    },
    {
      "cell_type": "code",
      "metadata": {
        "id": "HTqHzFbm6jIS",
        "colab_type": "code",
        "colab": {}
      },
      "source": [
        "# Set nulls values equal to one less than the minimum.\n",
        "# I could set the nulls to 0, but the scale would be ugly when we normalize the features.\n",
        "df.year_first_booking = df.year_first_booking.fillna(min(df.year_first_booking) - 1)\n",
        "df.month_first_booking = df.month_first_booking.fillna(min(df.month_first_booking) - 1)\n",
        "df.weekday_first_booking += 1\n",
        "df.weekday_first_booking = df.weekday_first_booking.fillna(0)"
      ],
      "execution_count": null,
      "outputs": []
    },
    {
      "cell_type": "code",
      "metadata": {
        "scrolled": true,
        "id": "UanrGojv6jIV",
        "colab_type": "code",
        "colab": {}
      },
      "source": [
        "df.isnull().sum()"
      ],
      "execution_count": null,
      "outputs": []
    },
    {
      "cell_type": "code",
      "metadata": {
        "id": "V3Ri6NYe6jIX",
        "colab_type": "code",
        "colab": {}
      },
      "source": [
        "df.first_affiliate_tracked.value_counts()"
      ],
      "execution_count": null,
      "outputs": []
    },
    {
      "cell_type": "markdown",
      "metadata": {
        "id": "lDcxGtjs6jIb",
        "colab_type": "text"
      },
      "source": [
        "For the missing values for \"first_affiliate_tracked\" I am going to set these equal to \"untracked\". Not only is this the most common value, but it makes sense that if we are missing data on these people that they would not have been tracked."
      ]
    },
    {
      "cell_type": "code",
      "metadata": {
        "id": "W2oFeOjM6jIb",
        "colab_type": "code",
        "colab": {}
      },
      "source": [
        "df.first_affiliate_tracked = df.first_affiliate_tracked.fillna(\"untracked\")"
      ],
      "execution_count": null,
      "outputs": []
    },
    {
      "cell_type": "code",
      "metadata": {
        "scrolled": true,
        "id": "g_BPmoOC6jId",
        "colab_type": "code",
        "colab": {}
      },
      "source": [
        "df.isnull().sum()"
      ],
      "execution_count": null,
      "outputs": []
    },
    {
      "cell_type": "markdown",
      "metadata": {
        "id": "-WE8dW6I6jIf",
        "colab_type": "text"
      },
      "source": [
        "Everything is all clean (the null values in 'country_destination' belong to the testing data). Now let's explore the categorical features that might have too many values and reduce that number before we do one-hot encoding."
      ]
    },
    {
      "cell_type": "code",
      "metadata": {
        "id": "VQwW_v7X6jIh",
        "colab_type": "code",
        "colab": {}
      },
      "source": [
        "df.head()"
      ],
      "execution_count": null,
      "outputs": []
    },
    {
      "cell_type": "code",
      "metadata": {
        "scrolled": true,
        "id": "lG7oYUXv6jIi",
        "colab_type": "code",
        "colab": {}
      },
      "source": [
        "df.first_browser.value_counts()"
      ],
      "execution_count": null,
      "outputs": []
    },
    {
      "cell_type": "code",
      "metadata": {
        "id": "CRrI5SgD6jIk",
        "colab_type": "code",
        "colab": {}
      },
      "source": [
        "# Create a new feature for those using mobile browsers\n",
        "mobile_browsers = ['Mobile Safari','Chrome Mobile','IE Mobile','Mobile Firefox','Android Browser']\n",
        "df.loc[df.first_browser.isin(mobile_browsers), \"first_browser\"] = \"Mobile\""
      ],
      "execution_count": null,
      "outputs": []
    },
    {
      "cell_type": "code",
      "metadata": {
        "id": "DeFNiwEV6jIl",
        "colab_type": "code",
        "colab": {}
      },
      "source": [
        "# The cut_off is set at 0.5% of the data. If a value is not common enough, it will be grouped into something generic.\n",
        "cut_off = 1378\n",
        "\n",
        "other_browsers = []\n",
        "for browser, count in df.first_browser.value_counts().iteritems():\n",
        "    if count < cut_off:\n",
        "        other_browsers.append(browser)\n",
        "df.loc[df.first_browser.isin(other_browsers), \"first_browser\"] = \"Other\"\n",
        "\n",
        "print(other_browsers)"
      ],
      "execution_count": null,
      "outputs": []
    },
    {
      "cell_type": "code",
      "metadata": {
        "id": "nDqt2_QS6jIo",
        "colab_type": "code",
        "colab": {}
      },
      "source": [
        "df.first_browser.value_counts()"
      ],
      "execution_count": null,
      "outputs": []
    },
    {
      "cell_type": "code",
      "metadata": {
        "scrolled": true,
        "id": "srg9t4es6jIq",
        "colab_type": "code",
        "colab": {}
      },
      "source": [
        "df.language.value_counts()"
      ],
      "execution_count": null,
      "outputs": []
    },
    {
      "cell_type": "markdown",
      "metadata": {
        "id": "FdIiJxX06jIs",
        "colab_type": "text"
      },
      "source": [
        "I think that language might be a more important feature than some others, so I will decrease the cut off to 275, or 0.1% of the data."
      ]
    },
    {
      "cell_type": "code",
      "metadata": {
        "id": "xUJEFEvI6jIs",
        "colab_type": "code",
        "colab": {}
      },
      "source": [
        "other_languages = []\n",
        "for language, count in df.language.value_counts().iteritems():\n",
        "    if count < 275:\n",
        "        other_languages.append(language)\n",
        "    \n",
        "print(other_languages)\n",
        "\n",
        "df.loc[df.language.isin(other_languages), \"language\"] = \"Other\""
      ],
      "execution_count": null,
      "outputs": []
    },
    {
      "cell_type": "code",
      "metadata": {
        "id": "1c04IP5I6jIt",
        "colab_type": "code",
        "colab": {}
      },
      "source": [
        "df.language.value_counts()"
      ],
      "execution_count": null,
      "outputs": []
    },
    {
      "cell_type": "code",
      "metadata": {
        "id": "YTh_mKfG6jIu",
        "colab_type": "code",
        "colab": {}
      },
      "source": [
        "# New feature for languages that are not English.\n",
        "df['not_English'] = df.language.map(lambda x: 0 if x == 'en' else 1)"
      ],
      "execution_count": null,
      "outputs": []
    },
    {
      "cell_type": "code",
      "metadata": {
        "scrolled": true,
        "id": "NsgtS-E46jIw",
        "colab_type": "code",
        "colab": {}
      },
      "source": [
        "df.action.value_counts()"
      ],
      "execution_count": null,
      "outputs": []
    },
    {
      "cell_type": "code",
      "metadata": {
        "id": "0yfIKRbi6jI0",
        "colab_type": "code",
        "colab": {}
      },
      "source": [
        "other_actions = []\n",
        "for action, count in df.action.value_counts().iteritems():\n",
        "    if count < cut_off:\n",
        "        other_actions.append(action)\n",
        "    \n",
        "print(other_actions)\n",
        "\n",
        "df.loc[df.action.isin(other_actions), \"action\"] = \"Other\""
      ],
      "execution_count": null,
      "outputs": []
    },
    {
      "cell_type": "code",
      "metadata": {
        "id": "qH5fUq7q6jI2",
        "colab_type": "code",
        "colab": {}
      },
      "source": [
        "df.action.value_counts()"
      ],
      "execution_count": null,
      "outputs": []
    },
    {
      "cell_type": "code",
      "metadata": {
        "scrolled": true,
        "id": "2jewekaN6jI5",
        "colab_type": "code",
        "colab": {}
      },
      "source": [
        "df.action_detail.value_counts()"
      ],
      "execution_count": null,
      "outputs": []
    },
    {
      "cell_type": "code",
      "metadata": {
        "id": "8ZHXy1xN6jI-",
        "colab_type": "code",
        "colab": {}
      },
      "source": [
        "other_action_details = []\n",
        "for action_detail, count in df.action_detail.value_counts().iteritems():\n",
        "    if count < cut_off:\n",
        "        other_action_details.append(action_detail)\n",
        "    \n",
        "print(other_action_details)\n",
        "\n",
        "df.loc[df.action_detail.isin(other_action_details), \"action_detail\"] = \"Other\""
      ],
      "execution_count": null,
      "outputs": []
    },
    {
      "cell_type": "code",
      "metadata": {
        "id": "Y7liUmSD6jJF",
        "colab_type": "code",
        "colab": {}
      },
      "source": [
        "df.action_detail.value_counts()"
      ],
      "execution_count": null,
      "outputs": []
    },
    {
      "cell_type": "code",
      "metadata": {
        "id": "uYG86w3-6jJG",
        "colab_type": "code",
        "colab": {}
      },
      "source": [
        "df.action_type.value_counts()"
      ],
      "execution_count": null,
      "outputs": []
    },
    {
      "cell_type": "code",
      "metadata": {
        "id": "ETJDJi-l6jJH",
        "colab_type": "code",
        "colab": {}
      },
      "source": [
        "other_action_types = []\n",
        "for action_type, count in df.action_type.value_counts().iteritems():\n",
        "    if count < 1378:\n",
        "        other_action_types.append(action_type)\n",
        "    \n",
        "print(other_action_types)\n",
        "\n",
        "df.loc[df.action_type.isin(other_action_types), \"action_type\"] = \"Other\""
      ],
      "execution_count": null,
      "outputs": []
    },
    {
      "cell_type": "code",
      "metadata": {
        "id": "-I1q8pAy6jJJ",
        "colab_type": "code",
        "colab": {}
      },
      "source": [
        "df.action_type.value_counts()"
      ],
      "execution_count": null,
      "outputs": []
    },
    {
      "cell_type": "code",
      "metadata": {
        "id": "jos-JeGS6jJM",
        "colab_type": "code",
        "colab": {}
      },
      "source": [
        "df.affiliate_provider.value_counts()"
      ],
      "execution_count": null,
      "outputs": []
    },
    {
      "cell_type": "code",
      "metadata": {
        "id": "iPgvjgDO6jJN",
        "colab_type": "code",
        "colab": {}
      },
      "source": [
        "other_affiliate_providers = []\n",
        "for affiliate_provider, count in df.affiliate_provider.value_counts().iteritems():\n",
        "    if count < cut_off:\n",
        "        other_affiliate_providers.append(affiliate_provider)\n",
        "    \n",
        "print(other_affiliate_providers)\n",
        "\n",
        "df.loc[df.affiliate_provider.isin(other_affiliate_providers), \"affiliate_provider\"] = \"other\""
      ],
      "execution_count": null,
      "outputs": []
    },
    {
      "cell_type": "code",
      "metadata": {
        "id": "D6yjtC_i6jJO",
        "colab_type": "code",
        "colab": {}
      },
      "source": [
        "df.affiliate_provider.value_counts()"
      ],
      "execution_count": null,
      "outputs": []
    },
    {
      "cell_type": "code",
      "metadata": {
        "id": "HJNNdILM6jJP",
        "colab_type": "code",
        "colab": {}
      },
      "source": [
        "df.device_type.value_counts()"
      ],
      "execution_count": null,
      "outputs": []
    },
    {
      "cell_type": "code",
      "metadata": {
        "id": "0OIEZYls6jJS",
        "colab_type": "code",
        "colab": {}
      },
      "source": [
        "other_device_types = []\n",
        "for device_type, count in df.device_type.value_counts().iteritems():\n",
        "    if count < 1378:\n",
        "        other_device_types.append(device_type)\n",
        "    \n",
        "print(other_device_types)\n",
        "\n",
        "df.loc[df.device_type.isin(other_device_types), \"device_type\"] = \"Other\""
      ],
      "execution_count": null,
      "outputs": []
    },
    {
      "cell_type": "code",
      "metadata": {
        "id": "4BkGLNP86jJT",
        "colab_type": "code",
        "colab": {}
      },
      "source": [
        "df.device_type.value_counts()"
      ],
      "execution_count": null,
      "outputs": []
    },
    {
      "cell_type": "code",
      "metadata": {
        "id": "vIRN1HTo6jJU",
        "colab_type": "code",
        "colab": {}
      },
      "source": [
        "df.signup_method.value_counts()"
      ],
      "execution_count": null,
      "outputs": []
    },
    {
      "cell_type": "code",
      "metadata": {
        "id": "_F-s-1nE6jJV",
        "colab_type": "code",
        "colab": {}
      },
      "source": [
        "# Create a new dataframe for the labels\n",
        "labels = pd.DataFrame(df.country_destination)\n",
        "df = df.drop(\"country_destination\", axis = 1)"
      ],
      "execution_count": null,
      "outputs": []
    },
    {
      "cell_type": "code",
      "metadata": {
        "id": "-lnENyYy6jJX",
        "colab_type": "code",
        "colab": {}
      },
      "source": [
        "labels.head()"
      ],
      "execution_count": null,
      "outputs": []
    },
    {
      "cell_type": "code",
      "metadata": {
        "id": "9Rlqb24x6jJZ",
        "colab_type": "code",
        "colab": {}
      },
      "source": [
        "# Drop id since it is no longer needed.\n",
        "df = df.drop('id', axis = 1)"
      ],
      "execution_count": null,
      "outputs": []
    },
    {
      "cell_type": "code",
      "metadata": {
        "id": "Dq5N1G4W6jJd",
        "colab_type": "code",
        "colab": {}
      },
      "source": [
        "df.dtypes"
      ],
      "execution_count": null,
      "outputs": []
    },
    {
      "cell_type": "code",
      "metadata": {
        "id": "TLazAj796jJg",
        "colab_type": "code",
        "colab": {}
      },
      "source": [
        "# Group all features as either continuous (cont) or categorical (cat)\n",
        "cont_features = []\n",
        "cat_features = []\n",
        "\n",
        "for feature in df.columns:\n",
        "    print(feature)\n",
        "    if df[feature].dtype == float or df[feature].dtype == int:\n",
        "        cont_features.append(feature)\n",
        "    elif df[feature].dtype == object:\n",
        "        cat_features.append(feature)"
      ],
      "execution_count": null,
      "outputs": []
    },
    {
      "cell_type": "code",
      "metadata": {
        "id": "ydrj3YY76jJj",
        "colab_type": "code",
        "colab": {}
      },
      "source": [
        "# Check to ensure that we have all of the features\n",
        "print(cat_features)\n",
        "print()\n",
        "print(cont_features)\n",
        "print()\n",
        "print(len(cat_features) + len(cont_features))\n",
        "print(df.shape[1])"
      ],
      "execution_count": null,
      "outputs": []
    },
    {
      "cell_type": "code",
      "metadata": {
        "id": "tgedkwt06jJm",
        "colab_type": "code",
        "colab": {}
      },
      "source": [
        "# Although dates have continuous values, they should be treated as categorical features.\n",
        "date_features = ['year_account_created','month_account_created','weekday_account_created',\n",
        "                      'year_first_booking','month_first_booking','weekday_first_booking']\n",
        "for feature in date_features:\n",
        "    if feature in cont_features:\n",
        "        cont_features.remove(feature)\n",
        "    cat_features.append(feature)"
      ],
      "execution_count": null,
      "outputs": []
    },
    {
      "cell_type": "code",
      "metadata": {
        "scrolled": true,
        "id": "cBC65jO16jJp",
        "colab_type": "code",
        "colab": {}
      },
      "source": [
        "for feature in cat_features:\n",
        "    # Create dummies of each value of a categorical feature\n",
        "    dummies = pd.get_dummies(df[feature], prefix = feature, sparse=False, drop_first = False, dtype='float')\n",
        "    # Drop the unneeded feature\n",
        "    df = df.drop(feature, axis = 1)\n",
        "    df = pd.concat([df, dummies], axis=1)\n",
        "    print(\"{} is complete\".format(feature))"
      ],
      "execution_count": null,
      "outputs": []
    },
    {
      "cell_type": "code",
      "metadata": {
        "id": "lqeCtnn16jJs",
        "colab_type": "code",
        "colab": {}
      },
      "source": [
        ""
      ],
      "execution_count": null,
      "outputs": []
    },
    {
      "cell_type": "code",
      "metadata": {
        "scrolled": true,
        "id": "rW-KeJfz6jJu",
        "colab_type": "code",
        "colab": {}
      },
      "source": [
        "min_max_scaler = preprocessing.MinMaxScaler()\n",
        "# Normalize the continuous features\n",
        "features_remain =['action_count', 'age', 'apple_device', 'avg_duration', 'desktop_device', 'duration', 'max_duration', 'min_duration', 'mobile_device', 'signup_flow', 'tablet_device', 'timestamp_first_active', 'unique_action_details', 'unique_action_types', 'unique_actions', 'unique_device_types', 'action_count_quartile', 'age_group', 'duration_group', 'avg_duration_group', 'signup_flow_simple', 'business_day_account_created', 'holiday_account_created','business_day_first_booking', 'holiday_first_booking', 'not_English']\n",
        "for rf in features_remain:\n",
        "    df.loc[:,rf] = min_max_scaler.fit_transform(df[[rf]])"
      ],
      "execution_count": null,
      "outputs": []
    },
    {
      "cell_type": "code",
      "metadata": {
        "id": "Rf3zTX2g6jJw",
        "colab_type": "code",
        "colab": {}
      },
      "source": [
        "df.dtypes"
      ],
      "execution_count": null,
      "outputs": []
    },
    {
      "cell_type": "code",
      "metadata": {
        "id": "60NtO1Mm6jJy",
        "colab_type": "code",
        "colab": {}
      },
      "source": [
        "df.head()"
      ],
      "execution_count": null,
      "outputs": []
    },
    {
      "cell_type": "code",
      "metadata": {
        "id": "bv8dv5Qm6jJ1",
        "colab_type": "code",
        "colab": {}
      },
      "source": [
        "# Split df into training and testing data\n",
        "df_train = df[:len(train)]\n",
        "df_test = df[len(train):]\n",
        "print(len(train))\n",
        "# Shorten labels to length of the training data\n",
        "y = labels[:len(train)]"
      ],
      "execution_count": null,
      "outputs": []
    },
    {
      "cell_type": "code",
      "metadata": {
        "scrolled": true,
        "id": "cGrcJ_L16jJ2",
        "colab_type": "code",
        "colab": {}
      },
      "source": [
        "# Create dummy features for each country\n",
        "y_dummies = pd.get_dummies(y, drop_first = False, dtype=float)\n",
        "y = pd.concat([y, y_dummies], axis=1)\n",
        "y = y.drop(\"country_destination\", axis = 1)\n",
        "y.head()"
      ],
      "execution_count": null,
      "outputs": []
    },
    {
      "cell_type": "code",
      "metadata": {
        "id": "bmhxbyFA6jJ3",
        "colab_type": "code",
        "colab": {}
      },
      "source": [
        "print(df_train.shape)\n",
        "print(df_test.shape)\n",
        "print(y.shape)"
      ],
      "execution_count": null,
      "outputs": []
    },
    {
      "cell_type": "code",
      "metadata": {
        "id": "svdDzz6p6jJ4",
        "colab_type": "code",
        "colab": {}
      },
      "source": [
        "# Take a look to see how common each country is.\n",
        "train.country_destination.value_counts() "
      ],
      "execution_count": null,
      "outputs": []
    },
    {
      "cell_type": "code",
      "metadata": {
        "id": "Fgdikeei6jJ9",
        "colab_type": "code",
        "colab": {}
      },
      "source": [
        "# Find the order of the features\n",
        "y.columns"
      ],
      "execution_count": null,
      "outputs": []
    },
    {
      "cell_type": "markdown",
      "metadata": {
        "id": "nW_do_226jJ_",
        "colab_type": "text"
      },
      "source": [
        "Due to the imbalance in the data, we are going to set the sum of each feature equal to each other. This will help the neural network to train because it won't be biased to reducing the NDF errors since that would have the greatest effect in the cost function."
      ]
    },
    {
      "cell_type": "code",
      "metadata": {
        "scrolled": true,
        "id": "QqX_7vXu6jJ_",
        "colab_type": "code",
        "colab": {}
      },
      "source": [
        "y[y.columns[0]] *= len(y)/539\n",
        "y[y.columns[1]] *= len(y)/1428\n",
        "y[y.columns[2]] *= len(y)/1061\n",
        "y[y.columns[3]] *= len(y)/2249\n",
        "y[y.columns[4]] *= len(y)/5023\n",
        "y[y.columns[5]] *= len(y)/2324\n",
        "y[y.columns[6]] *= len(y)/2835\n",
        "y[y.columns[7]] *= len(y)/124543\n",
        "y[y.columns[8]] *= len(y)/762\n",
        "y[y.columns[9]] *= len(y)/217\n",
        "y[y.columns[10]] *= len(y)/62376\n",
        "y[y.columns[11]] *= len(y)/10094"
      ],
      "execution_count": null,
      "outputs": []
    },
    {
      "cell_type": "code",
      "metadata": {
        "id": "OhB3LEN86jKC",
        "colab_type": "code",
        "colab": {}
      },
      "source": [
        "# Check the sum of each feature\n",
        "totals = []\n",
        "for i in range(12):\n",
        "    totals.append(sum(y[y.columns[i]]))\n",
        "totals"
      ],
      "execution_count": null,
      "outputs": []
    },
    {
      "cell_type": "code",
      "metadata": {
        "id": "cfqhmZlr6jKD",
        "colab_type": "code",
        "colab": {}
      },
      "source": [
        "df_train.head()"
      ],
      "execution_count": null,
      "outputs": []
    },
    {
      "cell_type": "code",
      "metadata": {
        "id": "A8v-DBJI6jKF",
        "colab_type": "code",
        "colab": {}
      },
      "source": [
        "x_train, x_test, y_train, y_test = train_test_split(df_train, y, test_size = 0.2, random_state = 2)"
      ],
      "execution_count": null,
      "outputs": []
    },
    {
      "cell_type": "code",
      "metadata": {
        "id": "bKCZVXIn6jKG",
        "colab_type": "code",
        "colab": {}
      },
      "source": [
        "x_train.head()"
      ],
      "execution_count": null,
      "outputs": []
    },
    {
      "cell_type": "code",
      "metadata": {
        "id": "3fPdHju26jKK",
        "colab_type": "code",
        "colab": {}
      },
      "source": [
        "# Tensorflow needs the data in matrices\n",
        "inputX = x_train.as_matrix()\n",
        "inputY = y_train.as_matrix()\n",
        "inputX_test = x_test.as_matrix()\n",
        "inputY_test = y_test.as_matrix()"
      ],
      "execution_count": null,
      "outputs": []
    },
    {
      "cell_type": "code",
      "metadata": {
        "id": "cmT6WuY56jKM",
        "colab_type": "code",
        "colab": {}
      },
      "source": [
        "# for i in range(len(inputX)):\n",
        "#     for j in range(len(inputY[0])):\n",
        "#         if inputY[i][j] !=0:\n",
        "#             print(inputY[i][j])"
      ],
      "execution_count": null,
      "outputs": []
    },
    {
      "cell_type": "code",
      "metadata": {
        "id": "K9PiSK0s6jKO",
        "colab_type": "code",
        "colab": {}
      },
      "source": [
        "# Number of input nodes/number of features.\n",
        "input_nodes = 186\n",
        "\n",
        "# Multiplier maintains a fixed ratio of nodes between each layer.\n",
        "mulitplier = 1.33\n",
        "\n",
        "# Number of nodes in each hidden layer\n",
        "hidden_nodes1 = 50\n",
        "hidden_nodes2 = round(hidden_nodes1 * mulitplier)\n",
        "\n",
        "# Percent of nodes to keep during dropout.\n",
        "pkeep = tf.placeholder(tf.float32)"
      ],
      "execution_count": null,
      "outputs": []
    },
    {
      "cell_type": "code",
      "metadata": {
        "id": "dY2ctimE6jKP",
        "colab_type": "code",
        "colab": {}
      },
      "source": [
        "# The standard deviation when setting the values for the weights.\n",
        "std = 1\n",
        "\n",
        "#input\n",
        "features = tf.placeholder(tf.float32, [None, input_nodes])\n",
        "\n",
        "#layer 1\n",
        "W1 = tf.Variable(tf.truncated_normal([input_nodes, hidden_nodes1], stddev = std))\n",
        "b1 = tf.Variable(tf.zeros([hidden_nodes1]))\n",
        "y1 = tf.nn.sigmoid(tf.matmul(features, W1) + b1)\n",
        "\n",
        "#layer 2\n",
        "W2 = tf.Variable(tf.truncated_normal([hidden_nodes1, hidden_nodes2], stddev = std))\n",
        "b2 = tf.Variable(tf.zeros([hidden_nodes2]))\n",
        "y2 = tf.nn.sigmoid(tf.matmul(y1, W2) + b2)\n",
        "#y2 = tf.nn.dropout(y2, pkeep)\n",
        "\n",
        "#layer 3\n",
        "W3 = tf.Variable(tf.truncated_normal([hidden_nodes2, 12], stddev = std)) \n",
        "b3 = tf.Variable(tf.zeros([12]))\n",
        "y3 = tf.nn.softmax(tf.matmul(y2, W3) + b3)\n",
        "\n",
        "#output\n",
        "predictions = y3\n",
        "labels = tf.placeholder(tf.float32, [None, 12])"
      ],
      "execution_count": null,
      "outputs": []
    },
    {
      "cell_type": "code",
      "metadata": {
        "id": "pv_Wplm-6jKR",
        "colab_type": "code",
        "colab": {}
      },
      "source": [
        "#Parameters\n",
        "training_epochs = 3000\n",
        "training_dropout = 0.6 # Not using dropout led to the best results.\n",
        "display_step = 10\n",
        "n_samples = inputY.shape[1]\n",
        "batch = tf.Variable(0)\n",
        "\n",
        "learning_rate = tf.train.exponential_decay(\n",
        "  0.05,              #Base learning rate.\n",
        "  batch,             #Current index into the dataset.\n",
        "  len(inputX),       #Decay step.\n",
        "  0.95,              #Decay rate.\n",
        "  staircase=False)"
      ],
      "execution_count": null,
      "outputs": []
    },
    {
      "cell_type": "markdown",
      "metadata": {
        "id": "aPY69_Cp6jKS",
        "colab_type": "text"
      },
      "source": [
        "Based on the evaluation method of the Kaggle competition, we are going to check the accuracy of the top prediction and the top 5 predictions for each user."
      ]
    },
    {
      "cell_type": "code",
      "metadata": {
        "id": "ZEJ-0z8g6jKS",
        "colab_type": "code",
        "colab": {}
      },
      "source": [
        "# Determine if the predictions are correct\n",
        "correct_prediction = tf.equal(tf.argmax(predictions,1), tf.argmax(labels,1))\n",
        "correct_top5 = tf.nn.in_top_k(predictions, tf.argmax(labels, 1), k = 5)\n",
        "\n",
        "# Calculate the accuracy of the predictions\n",
        "accuracy = tf.reduce_mean(tf.cast(correct_prediction, tf.float32))\n",
        "accuracy_top5 = tf.reduce_mean(tf.cast(correct_top5, tf.float32))\n",
        "\n",
        "print('Accuracy function created.')\n",
        "\n",
        "# Cross entropy\n",
        "cross_entropy = -tf.reduce_sum(labels * tf.log(tf.clip_by_value(predictions,1e-10,1.0)))\n",
        "\n",
        "# Training loss\n",
        "loss = tf.reduce_mean(cross_entropy)\n",
        "\n",
        "#We will optimize our model via AdamOptimizer\n",
        "optimizer = tf.train.AdamOptimizer(learning_rate).minimize(loss)"
      ],
      "execution_count": null,
      "outputs": []
    },
    {
      "cell_type": "code",
      "metadata": {
        "id": "0FJpBTJB6jKU",
        "colab_type": "code",
        "colab": {}
      },
      "source": [
        "#Initialize variables and tensorflow session\n",
        "init = tf.global_variables_initializer()\n",
        "session = tf.Session()\n",
        "session.run(init)"
      ],
      "execution_count": null,
      "outputs": []
    },
    {
      "cell_type": "code",
      "metadata": {
        "scrolled": true,
        "id": "6JZSsl_L6jKV",
        "colab_type": "code",
        "colab": {}
      },
      "source": [
        "accuracy_summary = [] #Record accuracy values for plot\n",
        "accuracy_top5_summary = [] #Record accuracy values for plot\n",
        "loss_summary = [] #Record cost values for plot\n",
        "\n",
        "test_accuracy_summary = [] #Record accuracy values for plot\n",
        "test_accuracy_top5_summary = [] #Record accuracy values for plot\n",
        "test_loss_summary = [] #Record cost values for plot\n",
        "\n",
        "init = tf.global_variables_initializer()\n",
        "\n",
        "for i in range(training_epochs):  \n",
        "    session.run([optimizer], \n",
        "                feed_dict={features: inputX, \n",
        "                           labels: inputY,\n",
        "                           pkeep: training_dropout})\n",
        "\n",
        "    # Display logs per epoch step\n",
        "    if (i) % display_step == 0:\n",
        "        train_accuracy, train_accuracy_top5, newLoss = session.run([accuracy,accuracy_top5,loss], \n",
        "                                                                   feed_dict={features: inputX, \n",
        "                                                                              labels: inputY,\n",
        "                                                                              pkeep: training_dropout})\n",
        "        print (\"Epoch:\", i,\n",
        "               \"Accuracy =\", \"{:.6f}\".format(train_accuracy), \n",
        "               \"Top 5 Accuracy =\", \"{:.6f}\".format(train_accuracy_top5),\n",
        "               \"Loss = \", \"{:.6f}\".format(newLoss))\n",
        "        accuracy_summary.append(train_accuracy)\n",
        "        accuracy_top5_summary.append(train_accuracy_top5)\n",
        "        loss_summary.append(newLoss)\n",
        "        \n",
        "        test_accuracy,test_accuracy_top5,test_newLoss = session.run([accuracy,accuracy_top5,loss], \n",
        "                                                              feed_dict={features: inputX_test, \n",
        "                                                                         labels: inputY_test,\n",
        "                                                                         pkeep: 1})\n",
        "        print (\"Epoch:\", i,\n",
        "               \"Test-Accuracy =\", \"{:.6f}\".format(test_accuracy), \n",
        "               \"Test-Top 5 Accuracy =\", \"{:.6f}\".format(test_accuracy_top5),\n",
        "               \"Test-Loss = \", \"{:.6f}\".format(test_newLoss))\n",
        "        test_accuracy_summary.append(test_accuracy)\n",
        "        test_accuracy_top5_summary.append(test_accuracy_top5)\n",
        "        test_loss_summary.append(test_newLoss)\n",
        "\n",
        "print()\n",
        "print (\"Optimization Finished!\")\n",
        "training_accuracy, training_top5_accuracy = session.run([accuracy,accuracy_top5], \n",
        "                                feed_dict={features: inputX, labels: inputY, pkeep: training_dropout})\n",
        "print (\"Training Accuracy=\", training_accuracy)\n",
        "print (\"Training Top 5 Accuracy=\", training_top5_accuracy)\n",
        "print()\n",
        "testing_accuracy, testing_top5_accuracy = session.run([accuracy,accuracy_top5], \n",
        "                                                       feed_dict={features: inputX_test, \n",
        "                                                                  labels: inputY_test,\n",
        "                                                                  pkeep: 1})\n",
        "print (\"Testing Accuracy=\", testing_accuracy)\n",
        "print (\"Testing Top 5 Accuracy=\", testing_top5_accuracy)"
      ],
      "execution_count": null,
      "outputs": []
    },
    {
      "cell_type": "code",
      "metadata": {
        "id": "j9EWLa8t6jKW",
        "colab_type": "code",
        "colab": {}
      },
      "source": [
        "testing_predictions, testing_labels = session.run([tf.argmax(predictions,1), tf.argmax(labels,1)], \n",
        "                                                  feed_dict={features: inputX_test,\n",
        "                                                             labels: inputY_test,\n",
        "                                                             pkeep: 1})\n",
        "\n",
        "print(classification_report(testing_labels, testing_predictions, target_names=y.columns))"
      ],
      "execution_count": null,
      "outputs": []
    },
    {
      "cell_type": "code",
      "metadata": {
        "id": "tDkW1FIK6jKa",
        "colab_type": "code",
        "colab": {}
      },
      "source": [
        "#Plot accuracies and cost summary\n",
        "f, (ax1, ax2, ax3) = plt.subplots(3, 1, sharex=True, figsize=(10,8))\n",
        "\n",
        "ax1.plot(accuracy_summary)\n",
        "ax1.plot(test_accuracy_summary)\n",
        "ax1.set_title('Top 1 Accuracy')\n",
        "\n",
        "ax2.plot(accuracy_top5_summary)\n",
        "ax2.plot(test_accuracy_top5_summary)\n",
        "ax2.set_title('Top 5 Accuracy')\n",
        "\n",
        "ax3.plot(loss_summary)\n",
        "ax3.plot(test_loss_summary)\n",
        "ax3.set_title('Loss')\n",
        "\n",
        "plt.xlabel('Epochs (x10)')\n",
        "plt.show()"
      ],
      "execution_count": null,
      "outputs": []
    },
    {
      "cell_type": "code",
      "metadata": {
        "id": "zviwfhbL6jKb",
        "colab_type": "code",
        "colab": {}
      },
      "source": [
        "# Find the probabilities for each prediction\n",
        "test_final = df_test.as_matrix()\n",
        "final_probabilities = session.run(predictions, feed_dict={features: test_final,\n",
        "                                                          pkeep: 1})"
      ],
      "execution_count": null,
      "outputs": []
    },
    {
      "cell_type": "code",
      "metadata": {
        "id": "EG4WaN356jKd",
        "colab_type": "code",
        "colab": {}
      },
      "source": [
        "# Explore some of the predictions\n",
        "final_probabilities[0]"
      ],
      "execution_count": null,
      "outputs": []
    },
    {
      "cell_type": "code",
      "metadata": {
        "id": "ebgbJI2D6jKg",
        "colab_type": "code",
        "colab": {}
      },
      "source": [
        "# Encode the labels for the countries\n",
        "le = LabelEncoder()\n",
        "fit_labels = le.fit_transform(train.country_destination) \n",
        "\n",
        "# Get the ids for the test data\n",
        "test_getIDs = pd.read_csv(\"test_users.csv\")\n",
        "testIDs = test_getIDs['id']\n",
        "\n",
        "ids = []  #list of ids\n",
        "countries = []  #list of countries\n",
        "for i in range(len(testIDs)):\n",
        "    # Select the 5 countries with highest probabilities\n",
        "    idx = testIDs[i]\n",
        "    ids += [idx] * 5\n",
        "    countries += le.inverse_transform(np.argsort(final_probabilities[i])[::-1])[:5].tolist()\n",
        "    if i % 10000 == 0:\n",
        "        print (\"Percent complete: {}%\".format(round(i / len(test),4)*100))\n",
        "\n",
        "#Generate submission\n",
        "submission = pd.DataFrame(np.column_stack((ids, countries)), columns=['id', 'country'])\n",
        "submission.to_csv('submission.csv',index=False)"
      ],
      "execution_count": null,
      "outputs": []
    },
    {
      "cell_type": "code",
      "metadata": {
        "scrolled": true,
        "id": "6_5BpPNb6jKh",
        "colab_type": "code",
        "colab": {}
      },
      "source": [
        "# Check some of the submissions\n",
        "submission.head(25)"
      ],
      "execution_count": null,
      "outputs": []
    },
    {
      "cell_type": "code",
      "metadata": {
        "id": "mREK8bzL6jKi",
        "colab_type": "code",
        "colab": {}
      },
      "source": [
        "# Compare the submission's distribution to the training data's distribution.\n",
        "# Given that the data was randomly split, \n",
        "# a more equal distribution should lead to better scores in the Kaggle competition.\n",
        "submission.country.value_counts()"
      ],
      "execution_count": null,
      "outputs": []
    },
    {
      "cell_type": "code",
      "metadata": {
        "id": "BIu4kJ5X6jKj",
        "colab_type": "code",
        "colab": {}
      },
      "source": [
        "train.country_destination.value_counts()"
      ],
      "execution_count": null,
      "outputs": []
    },
    {
      "cell_type": "markdown",
      "metadata": {
        "id": "WGfD1rRT6jKk",
        "colab_type": "text"
      },
      "source": [
        "## Summary"
      ]
    },
    {
      "cell_type": "markdown",
      "metadata": {
        "id": "roguwxG66jKk",
        "colab_type": "text"
      },
      "source": [
        "Based on Kaggle's evaluation method (https://www.kaggle.com/c/airbnb-recruiting-new-user-bookings#evaluation), the neural network scores just under 0.86 when all of the training data is used. The winning submission scored 0.88697 and the sample submission scored 0.68411. Looking at the leaderboard and some kernels, the most common algorithm for the better scores was XGBoost. Given that the purpose of this analyis was to further my knowledge of TensorFlow (in addition to the other aspects of machine learning - i.e. feature engineering, cleaning data, etc.), I do not feel the need to use XGBoost to try to make a better prediction. I am rather pleased with this model on a whole, given its ability to accurately predict which country a user will make his/her first trip in. The 'lazy' prediction method would be to use the top and top 5 most common countries for the predictions. This would equal an accuracy score of 58.35% for the top predictions and 95.98% for the top 5 predictions. For the testing data, my top predictions scored a higher accuracy of 62.37%, as well as for the top 5 predictions, at 95.99%. My predictions are also more useful since they make use of all twelve countries, instead of just the five most common."
      ]
    },
    {
      "cell_type": "code",
      "metadata": {
        "id": "H6NG7ktd6jKk",
        "colab_type": "code",
        "colab": {}
      },
      "source": [
        ""
      ],
      "execution_count": null,
      "outputs": []
    }
  ]
}